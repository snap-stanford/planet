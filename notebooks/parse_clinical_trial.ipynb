{
 "cells": [
  {
   "cell_type": "code",
   "execution_count": null,
   "metadata": {},
   "outputs": [],
   "source": [
    "ROOT = '../parsing_package'\n",
    "DATA_DIR = f'{ROOT}/data/'"
   ]
  },
  {
   "cell_type": "code",
   "execution_count": 3,
   "metadata": {},
   "outputs": [],
   "source": [
    "import requests\n",
    "\n",
    "import pandas as pd\n",
    "import json\n",
    "import os\n",
    "import re\n",
    "import pickle\n",
    "import gc\n",
    "import random\n",
    "from pprint import pprint\n",
    "from collections import defaultdict, Counter, namedtuple, OrderedDict\n",
    "from enum import Enum\n",
    "from dataclasses import dataclass\n",
    "from typing import NamedTuple, Set, Optional\n",
    "import math\n",
    "\n",
    "import networkx as nx\n",
    "# import obonet\n",
    "import csv\n",
    "# from goatools import obo_parser\n",
    "\n",
    "import sys\n",
    "sys.path.insert(0, ROOT)\n",
    "from preprocessing.disease_data import MeshData\n",
    "# from criteria import Criteria, cuid2concept\n",
    "import matplotlib.pyplot as plt\n",
    "import numpy as np\n",
    "import seaborn as sb\n",
    "import networkx as nx\n",
    "%matplotlib inline\n",
    "plt.rcParams['figure.figsize'] = (8, 6.0) # set default size of plots"
   ]
  },
  {
   "cell_type": "code",
   "execution_count": 4,
   "metadata": {},
   "outputs": [],
   "source": [
    "def get_clinical_trial_data(nctid):  \n",
    "    # Base URL of the ClinicalTrials.gov API with the specified version  \n",
    "    base_url = \"https://clinicaltrials.gov/api/v2/studies\"  \n",
    "  \n",
    "    # Construct the full URL for the API request using .format() method  \n",
    "    request_url = \"{}/{}\".format(base_url, nctid)  \n",
    "  \n",
    "    try:  \n",
    "        # Make the GET request to the API  \n",
    "        response = requests.get(request_url)  \n",
    "  \n",
    "        # Check if the request was successful  \n",
    "        if response.status_code == 200:  \n",
    "            # Parse the JSON response  \n",
    "            trial_data = response.json()  \n",
    "            return trial_data  \n",
    "        else:  \n",
    "            # If the request was not successful, return the status code and error message  \n",
    "            return {\"error\": \"Failed to fetch data. Status code: {}, Message: {}\".format(response.status_code, response.text)}  \n",
    "      \n",
    "    except Exception as e:  \n",
    "        return {\"error\": str(e)}   "
   ]
  },
  {
   "cell_type": "code",
   "execution_count": 5,
   "metadata": {},
   "outputs": [],
   "source": [
    "nctid = \"NCT02370680\"  # Replace with a valid NCT ID  \n",
    "trial_data = get_clinical_trial_data(nctid)  \n",
    "\n",
    "if \"error\" in trial_data:  \n",
    "    pprint(\"Error fetching data: {}\".format(trial_data['error'])) "
   ]
  },
  {
   "cell_type": "code",
   "execution_count": 6,
   "metadata": {},
   "outputs": [
    {
     "data": {
      "text/plain": [
       "dict_keys(['protocolSection', 'derivedSection', 'hasResults'])"
      ]
     },
     "execution_count": 6,
     "metadata": {},
     "output_type": "execute_result"
    }
   ],
   "source": [
    "trial_data.keys()"
   ]
  },
  {
   "cell_type": "code",
   "execution_count": 7,
   "metadata": {},
   "outputs": [],
   "source": [
    "def print_keys(d, parent_key=''):  \n",
    "    \"\"\"  \n",
    "    This function prints all keys in a nested dictionary.  \n",
    "      \n",
    "    :param d: The dictionary to process  \n",
    "    :param parent_key: Key of the parent dictionary (if any)  \n",
    "    \"\"\"  \n",
    "    if isinstance(d, dict):  \n",
    "        for key in d:  \n",
    "            if parent_key:  \n",
    "                full_key = '{}.{}'.format(parent_key, key)  \n",
    "            else:  \n",
    "                full_key = key  \n",
    "            print(full_key)  \n",
    "            print_keys(d[key], full_key)  # Recursive call to handle nested dictionaries "
   ]
  },
  {
   "cell_type": "code",
   "execution_count": 8,
   "metadata": {},
   "outputs": [
    {
     "name": "stdout",
     "output_type": "stream",
     "text": [
      "protocolSection\n",
      "protocolSection.identificationModule\n",
      "protocolSection.identificationModule.nctId\n",
      "protocolSection.identificationModule.orgStudyIdInfo\n",
      "protocolSection.identificationModule.orgStudyIdInfo.id\n",
      "protocolSection.identificationModule.organization\n",
      "protocolSection.identificationModule.organization.fullName\n",
      "protocolSection.identificationModule.organization.class\n",
      "protocolSection.identificationModule.briefTitle\n",
      "protocolSection.identificationModule.officialTitle\n",
      "protocolSection.identificationModule.acronym\n",
      "protocolSection.statusModule\n",
      "protocolSection.statusModule.statusVerifiedDate\n",
      "protocolSection.statusModule.overallStatus\n",
      "protocolSection.statusModule.expandedAccessInfo\n",
      "protocolSection.statusModule.expandedAccessInfo.hasExpandedAccess\n",
      "protocolSection.statusModule.startDateStruct\n",
      "protocolSection.statusModule.startDateStruct.date\n",
      "protocolSection.statusModule.primaryCompletionDateStruct\n",
      "protocolSection.statusModule.primaryCompletionDateStruct.date\n",
      "protocolSection.statusModule.primaryCompletionDateStruct.type\n",
      "protocolSection.statusModule.completionDateStruct\n",
      "protocolSection.statusModule.completionDateStruct.date\n",
      "protocolSection.statusModule.completionDateStruct.type\n",
      "protocolSection.statusModule.studyFirstSubmitDate\n",
      "protocolSection.statusModule.studyFirstSubmitQcDate\n",
      "protocolSection.statusModule.studyFirstPostDateStruct\n",
      "protocolSection.statusModule.studyFirstPostDateStruct.date\n",
      "protocolSection.statusModule.studyFirstPostDateStruct.type\n",
      "protocolSection.statusModule.lastUpdateSubmitDate\n",
      "protocolSection.statusModule.lastUpdatePostDateStruct\n",
      "protocolSection.statusModule.lastUpdatePostDateStruct.date\n",
      "protocolSection.statusModule.lastUpdatePostDateStruct.type\n",
      "protocolSection.sponsorCollaboratorsModule\n",
      "protocolSection.sponsorCollaboratorsModule.responsibleParty\n",
      "protocolSection.sponsorCollaboratorsModule.responsibleParty.type\n",
      "protocolSection.sponsorCollaboratorsModule.leadSponsor\n",
      "protocolSection.sponsorCollaboratorsModule.leadSponsor.name\n",
      "protocolSection.sponsorCollaboratorsModule.leadSponsor.class\n",
      "protocolSection.oversightModule\n",
      "protocolSection.oversightModule.oversightHasDmc\n",
      "protocolSection.descriptionModule\n",
      "protocolSection.descriptionModule.briefSummary\n",
      "protocolSection.conditionsModule\n",
      "protocolSection.conditionsModule.conditions\n",
      "protocolSection.conditionsModule.keywords\n",
      "protocolSection.designModule\n",
      "protocolSection.designModule.studyType\n",
      "protocolSection.designModule.phases\n",
      "protocolSection.designModule.designInfo\n",
      "protocolSection.designModule.designInfo.allocation\n",
      "protocolSection.designModule.designInfo.interventionModel\n",
      "protocolSection.designModule.designInfo.primaryPurpose\n",
      "protocolSection.designModule.designInfo.maskingInfo\n",
      "protocolSection.designModule.designInfo.maskingInfo.masking\n",
      "protocolSection.designModule.enrollmentInfo\n",
      "protocolSection.designModule.enrollmentInfo.count\n",
      "protocolSection.designModule.enrollmentInfo.type\n",
      "protocolSection.armsInterventionsModule\n",
      "protocolSection.armsInterventionsModule.armGroups\n",
      "protocolSection.armsInterventionsModule.interventions\n",
      "protocolSection.outcomesModule\n",
      "protocolSection.outcomesModule.primaryOutcomes\n",
      "protocolSection.outcomesModule.secondaryOutcomes\n",
      "protocolSection.outcomesModule.otherOutcomes\n",
      "protocolSection.eligibilityModule\n",
      "protocolSection.eligibilityModule.eligibilityCriteria\n",
      "protocolSection.eligibilityModule.healthyVolunteers\n",
      "protocolSection.eligibilityModule.sex\n",
      "protocolSection.eligibilityModule.minimumAge\n",
      "protocolSection.eligibilityModule.stdAges\n",
      "protocolSection.contactsLocationsModule\n",
      "protocolSection.contactsLocationsModule.overallOfficials\n",
      "protocolSection.contactsLocationsModule.locations\n",
      "derivedSection\n",
      "derivedSection.miscInfoModule\n",
      "derivedSection.miscInfoModule.versionHolder\n",
      "derivedSection.conditionBrowseModule\n",
      "derivedSection.conditionBrowseModule.meshes\n",
      "derivedSection.conditionBrowseModule.browseLeaves\n",
      "derivedSection.conditionBrowseModule.browseBranches\n",
      "derivedSection.interventionBrowseModule\n",
      "derivedSection.interventionBrowseModule.meshes\n",
      "derivedSection.interventionBrowseModule.ancestors\n",
      "derivedSection.interventionBrowseModule.browseLeaves\n",
      "derivedSection.interventionBrowseModule.browseBranches\n",
      "hasResults\n"
     ]
    }
   ],
   "source": [
    "print_keys(trial_data)"
   ]
  },
  {
   "cell_type": "code",
   "execution_count": 9,
   "metadata": {},
   "outputs": [
    {
     "data": {
      "text/plain": [
       "{'nct_id': 'NCT02370680',\n",
       " 'arm_group': [{'type': 'EXPERIMENTAL',\n",
       "   'description': 'Aspirin run-in, followed with Durlaza™, one capsule QD (quaque die), for 14 ± 4 days and an in-patient visit',\n",
       "   'interventionNames': ['Drug: Aspirin', 'Drug: Durlaza™'],\n",
       "   'arm_group_label': 'Durlaza™, 1 capsule'},\n",
       "  {'type': 'EXPERIMENTAL',\n",
       "   'description': 'in a rollover with 10 subjects from the first arm, an aspirin run-in, followed by Durlaza™, two capsules QD, for 14 ± 4 days and an in-patient visit',\n",
       "   'interventionNames': ['Drug: Aspirin', 'Drug: Durlaza™'],\n",
       "   'arm_group_label': 'Durlaza™, 2 capsules'}],\n",
       " 'intervention': [{'description': 'steady-state run-in prior to Durlaza treatment',\n",
       "   'intervention_type': 'Drug',\n",
       "   'intervention_name': 'Aspirin',\n",
       "   'other_name': ['Bayer aspirin'],\n",
       "   'arm_group_label': ['Durlaza™, 1 capsule', 'Durlaza™, 2 capsules']},\n",
       "  {'description': 'comparison of different numbers of capsules',\n",
       "   'intervention_type': 'Drug',\n",
       "   'intervention_name': 'Durlaza™',\n",
       "   'arm_group_label': ['Durlaza™, 1 capsule', 'Durlaza™, 2 capsules']}],\n",
       " 'condition': ['Cardiovascular Disease'],\n",
       " 'intervention_mesh_terms': [{'id': 'D000002318',\n",
       "   'term': 'Cardiovascular Diseases'}],\n",
       " 'event_groups': None,\n",
       " 'primary_outcome': [{'measure': 'change in platelet aggregation',\n",
       "   'timeFrame': 'During the 26-hour hospital stays, outcomes will be measured at various timepoints'}],\n",
       " 'secondary_outcome': [{'measure': 'Reactive Hyperemia Index',\n",
       "   'timeFrame': 'During the 26-hour hospital stays, outcomes will be measured at various timepoints'},\n",
       "  {'measure': 'Safety as measured by the number and system class of adverse events reported in each treatment arm',\n",
       "   'timeFrame': 'participants are followed for approximately 40 to 65 days once they start study medication'}],\n",
       " 'eligibility_criteria': 'Inclusion Criteria:\\n\\n* Male or non-lactating, non-pregnant female subjects\\n* A history of Type 2 Diabetes and with history of at least one of the following: Coronary Artery Disease, Peripheral Vascular Disease, or Ischemic Stroke, along with at least 2 CVD risk factors (obese, smoker, ≥ 55 years of age, prior thrombotic event)\\n\\nExclusion Criteria:\\n\\n* Sensitivity to aspirin or any NSAID (nonsteroidal antiinflammatory drug),\\n* Evidence of uncontrolled or unstable cardio- or cerebrovascular disorder,\\n* Presence of uncontrolled or chronic medical illness, GI disorder or surgery leading to impaired drug absorption, clinically significant abnormal baseline ECG, history of hepatitis, malignancy within the past five years, or HIV, history of alcohol or drug abuse.',\n",
       " 'brief_summary': \"This study is being conducted to evaluate the safety and the length of effect on platelet build-up in the arteries of Durlaza™ as compared to immediate-release Bayer® aspirin 81 mg or subject's current aspirin 81 mg of choice in patients who have Type 2 diabetes mellitus and cardiovascular disease or multiple risk factors of developing cardiovascular disease.\",\n",
       " 'phase': ['PHASE1'],\n",
       " 'enrollment': {'count': 41, 'type': 'ACTUAL'},\n",
       " 'gender_sex': 'ALL',\n",
       " 'minimum_age': '18 Years',\n",
       " 'maximum_age': None,\n",
       " 'clinical_results': {}}"
      ]
     },
     "execution_count": 9,
     "metadata": {},
     "output_type": "execute_result"
    }
   ],
   "source": [
    "nctid = \"NCT02370680\"  # Replace with a valid NCT ID  \n",
    "trial_data = get_clinical_trial_data(nctid)  \n",
    "\n",
    "if \"error\" in trial_data:  \n",
    "    pprint(\"Error fetching data: {}\".format(trial_data['error'])) \n",
    "    \n",
    "\n",
    "attributes = {\n",
    "    \"nct_id\": \"protocolSection.identificationModule.nctId\",\n",
    "    \"arm_group\": \"protocolSection.armsInterventionsModule.armGroups\",\n",
    "    \"intervention\": \"protocolSection.armsInterventionsModule.interventions\",\n",
    "    \"condition\": \"protocolSection.conditionsModule.conditions\",\n",
    "    \"intervention_mesh_terms\": \"derivedSection.conditionBrowseModule.meshes\",\n",
    "    \"event_groups\": \"resultsSection.adverseEventsModule.eventGroups\",\n",
    "    \"primary_outcome\": \"protocolSection.outcomesModule.primaryOutcomes\",\n",
    "    \"secondary_outcome\": \"protocolSection.outcomesModule.secondaryOutcomes\",\n",
    "    \"eligibility_criteria\": \"protocolSection.eligibilityModule.eligibilityCriteria\",\n",
    "    'brief_summary': 'protocolSection.descriptionModule.briefSummary',\n",
    "    'phase': 'protocolSection.designModule.phases',\n",
    "    'enrollment': 'protocolSection.designModule.enrollmentInfo',\n",
    "    'gender_sex': 'protocolSection.eligibilityModule.sex',\n",
    "    'minimum_age': 'protocolSection.eligibilityModule.minimumAge',\n",
    "    'maximum_age': 'protocolSection.eligibilityModule.maximumAge'\n",
    "}\n",
    "\n",
    "parsed_trial = {}\n",
    "for attribute, path in attributes.items():\n",
    "    val = trial_data\n",
    "    for component in path.split(\".\"):\n",
    "        if component not in val:\n",
    "            val = None\n",
    "            break\n",
    "        val = val[component]\n",
    "    parsed_trial[attribute] = val\n",
    "    \n",
    "for arm_group in parsed_trial['arm_group']:\n",
    "    arm_group['arm_group_label'] = arm_group.pop('label')\n",
    "    \n",
    "for intervention in parsed_trial['intervention']:\n",
    "    intervention['intervention_type'] = intervention.pop('type').title()\n",
    "    intervention['intervention_name'] = intervention.pop('name')\n",
    "    if 'otherNames' in intervention:\n",
    "        intervention['other_name'] = intervention.pop('otherNames')\n",
    "    intervention['arm_group_label'] = intervention.pop('armGroupLabels')\n",
    "\n",
    "\n",
    "parsed_trial['clinical_results'] = {\n",
    "    \"reported_events\": {\n",
    "        \"group_list\": {\"group\": parsed_trial.pop('event_groups')}\n",
    "    }\n",
    "} if parsed_trial.get('event_groups') is not None else {}\n",
    "parsed_trial"
   ]
  },
  {
   "cell_type": "markdown",
   "metadata": {},
   "source": [
    "## Medex Input Create"
   ]
  },
  {
   "cell_type": "code",
   "execution_count": 10,
   "metadata": {},
   "outputs": [
    {
     "name": "stderr",
     "output_type": "stream",
     "text": [
      "[nltk_data] Downloading package stopwords to\n",
      "[nltk_data]     /dfs/scratch1/myasu/nltk_data...\n",
      "[nltk_data]   Package stopwords is already up-to-date!\n",
      "[nltk_data] Downloading package averaged_perceptron_tagger_eng to\n",
      "[nltk_data]     /dfs/scratch1/myasu/nltk_data...\n",
      "[nltk_data]   Package averaged_perceptron_tagger_eng is already up-to-\n",
      "[nltk_data]       date!\n",
      "[nltk_data] Downloading package averaged_perceptron_tagger to\n",
      "[nltk_data]     /dfs/scratch1/myasu/nltk_data...\n",
      "[nltk_data]   Package averaged_perceptron_tagger is already up-to-\n",
      "[nltk_data]       date!\n"
     ]
    }
   ],
   "source": [
    "from data_parsers.external_tools.medex import medex_input\n",
    "from data_parsers.external_tools import medex\n",
    "import tempfile\n",
    "import json\n",
    "import subprocess\n",
    "import shlex"
   ]
  },
  {
   "cell_type": "code",
   "execution_count": 11,
   "metadata": {},
   "outputs": [
    {
     "name": "stdout",
     "output_type": "stream",
     "text": [
      "java -Xmx1024m -cp ./parsing_package/resources/medex/Medex_UIMA_1.3.8/bin:./parsing_package/resources/medex/Medex_UIMA_1.3.8/lib/* org.apache.medex.Main -i /tmp/user/19668/tmp7h7i_rno/inputs/medex_input.json -o /tmp/user/19668/tmp7h7i_rno/outputs/data -b n -f y -d y -t n\n",
      "Loading configuration files ...\n",
      "Processing file NCT02370680_arm_0.txt ...\n",
      "Processing file NCT02370680_drug_0.txt ...\n",
      "Processing file NCT02370680_drug_1_othernames.txt ...\n",
      "Processing file NCT02370680_arm_1.txt ...\n",
      "Processing file NCT02370680_drug_0_othernames.txt ...\n",
      "Processing file NCT02370680_drug_1.txt ...\n",
      "total time:57868\n"
     ]
    }
   ],
   "source": [
    "result = {}\n",
    "\n",
    "classpath = f'{ROOT}/resources/medex/Medex_UIMA_1.3.8/bin:{ROOT}/resources/medex/Medex_UIMA_1.3.8/lib/*'\n",
    "args_template = \"java -Xmx1024m -cp {0} org.apache.medex.Main -i {1} -o {2} -b n -f y -d y -t n\"\n",
    "\n",
    "with tempfile.TemporaryDirectory() as basedir:\n",
    "    # create medex input\n",
    "    medex_input._generate_medex_inputs(parsed_trial, result)\n",
    "    input_dir = os.path.join(basedir, 'inputs')\n",
    "    os.makedirs(input_dir)\n",
    "    with open(os.path.join(input_dir, 'medex_input.json'), 'w') as f:\n",
    "        json.dump(result, f)\n",
    "        \n",
    "    # Run medex\n",
    "    output_path = os.path.join(basedir, \"outputs\")\n",
    "    os.makedirs(os.path.join(output_path, \"data\"))\n",
    "    args = args_template.format(classpath, os.path.join(input_dir, 'medex_input.json'), \n",
    "                                os.path.join(output_path, \"data\"))\n",
    "    print(args)\n",
    "    # args = args_template\n",
    "    p = subprocess.run(shlex.split(args))\n",
    "    \n",
    "    medex_output_parser = medex.MedexOutputParser(base_paths=[output_path])\n",
    "    \n",
    "    medex_output_parser.fill_medex_info(parsed_trial)"
   ]
  },
  {
   "cell_type": "markdown",
   "metadata": {},
   "source": [
    "## Crit2Query parsing"
   ]
  },
  {
   "cell_type": "code",
   "execution_count": 12,
   "metadata": {
    "scrolled": true
   },
   "outputs": [
    {
     "name": "stdout",
     "output_type": "stream",
     "text": [
      "java -Xmx4096m -jar ./parsing_package/resources/criteria2query.jar --input /tmp/user/19668/tmp0ym1nay_/inputs/crit_input.txt --outputDir /tmp/user/19668/tmp0ym1nay_/outputs/data\n"
     ]
    },
    {
     "name": "stderr",
     "output_type": "stream",
     "text": [
      "[main] INFO edu.stanford.nlp.parser.lexparser.LexicalizedParser - Loading parser from serialized file edu/columbia/dbmi/ohdsims/model/wsjPCFG.ser.gz ... done [0.4 sec].\n",
      "[main] INFO edu.stanford.nlp.ie.AbstractSequenceClassifier - Loading classifier from edu/columbia/dbmi/ohdsims/model/c2q_all_model_advanced.ser.gz ... done [0.7 sec].\n",
      "[main] INFO edu.stanford.nlp.parser.lexparser.LexicalizedParser - Loading parser from serialized file edu/columbia/dbmi/ohdsims/model/wsjPCFG.ser.gz ... done [0.2 sec].\n",
      "[main] INFO edu.stanford.nlp.pipeline.StanfordCoreNLP - Adding annotator tokenize\n",
      "[main] INFO edu.stanford.nlp.pipeline.TokenizerAnnotator - No tokenizer type provided. Defaulting to PTBTokenizer.\n",
      "[main] INFO edu.stanford.nlp.pipeline.StanfordCoreNLP - Adding annotator ssplit\n",
      "[main] INFO edu.stanford.nlp.pipeline.StanfordCoreNLP - Adding annotator pos\n",
      "[main] INFO edu.stanford.nlp.tagger.maxent.MaxentTagger - Loading POS tagger from edu/stanford/nlp/models/pos-tagger/english-left3words/english-left3words-distsim.tagger ... done [0.6 sec].\n",
      "[main] INFO edu.stanford.nlp.pipeline.StanfordCoreNLP - Adding annotator lemma\n",
      "[main] INFO edu.stanford.nlp.pipeline.StanfordCoreNLP - Adding annotator depparse\n",
      "[main] INFO edu.stanford.nlp.parser.nndep.DependencyParser - Loading depparse model file: edu/stanford/nlp/models/parser/nndep/english_UD.gz ... \n",
      "[main] INFO edu.stanford.nlp.parser.nndep.Classifier - PreComputed 99996, Elapsed Time: 5.715 (s)\n",
      "[main] INFO edu.stanford.nlp.parser.nndep.DependencyParser - Initializing dependency parser ... done [6.8 sec].\n",
      "[main] INFO edu.stanford.nlp.parser.lexparser.LexicalizedParser - Loading parser from serialized file edu/columbia/dbmi/ohdsims/model/wsjPCFG.ser.gz ... done [0.1 sec].\n",
      "[main] INFO edu.stanford.nlp.pipeline.StanfordCoreNLP - Adding annotator tokenize\n",
      "[main] INFO edu.stanford.nlp.pipeline.StanfordCoreNLP - Adding annotator ssplit\n",
      "[main] INFO edu.stanford.nlp.pipeline.StanfordCoreNLP - Adding annotator pos\n",
      "[main] INFO edu.stanford.nlp.pipeline.StanfordCoreNLP - Adding annotator lemma\n",
      "[main] INFO edu.stanford.nlp.pipeline.StanfordCoreNLP - Adding annotator depparse\n",
      "log4j:WARN No appenders could be found for logger (edu.columbia.dbmi.ohdsims.service.impl.InformationExtractionServiceImpl).\n",
      "log4j:WARN Please initialize the log4j system properly.\n",
      "log4j:WARN See http://logging.apache.org/log4j/1.2/faq.html#noconfig for more info.\n",
      "[main] INFO edu.stanford.nlp.pipeline.AnnotatorPool - Replacing old annotator \"tokenize\" with signature [] with new annotator with signature [ssplit.isOneSentence:true;tokenize.language:en;tokenize.class:PTBTokenizer;]\n",
      "[main] INFO edu.stanford.nlp.pipeline.AnnotatorPool - Replacing old annotator \"ssplit\" with signature [] with new annotator with signature [ssplit.isOneSentence:true;tokenize.language:en;tokenize.class:PTBTokenizer;]\n",
      "[main] INFO edu.stanford.nlp.tagger.maxent.MaxentTagger - Loading POS tagger from edu/stanford/nlp/models/pos-tagger/english-left3words/english-left3words-distsim.tagger ... done [0.3 sec].\n"
     ]
    }
   ],
   "source": [
    "from data_parsers.external_tools.criteria2query import create_nctids_file\n",
    "from data_parsers import CriteriaOutputParser\n",
    "import time\n",
    "\n",
    "with tempfile.TemporaryDirectory() as basedir:# create input\n",
    "    input_dir = os.path.join(basedir, 'inputs')\n",
    "    os.makedirs(input_dir)\n",
    "    with open(os.path.join(input_dir, 'crit_input.txt'), 'w') as f:\n",
    "        f.write(parsed_trial['eligibility_criteria'])\n",
    "\n",
    "    # Run crit2query\n",
    "    output_path = os.path.join(basedir, \"outputs\")\n",
    "    os.makedirs(os.path.join(output_path, \"data\"))\n",
    "    args =  f\"java -Xmx4096m -jar {ROOT}/resources/criteria2query.jar \" + \\\n",
    "                f\"--input {os.path.join(input_dir, 'crit_input.txt')} \" + \\\n",
    "                f\"--outputDir {os.path.join(output_path, 'data')}\"\n",
    "    print(args)\n",
    "    # args = args_template\n",
    "    p = subprocess.run(shlex.split(args))\n",
    "\n",
    "    parsed_trial['ec_umls'] = CriteriaOutputParser.parse_crit_output_from_file(os.path.join(output_path, \"data\", \"output.json\"))"
   ]
  },
  {
   "cell_type": "markdown",
   "metadata": {},
   "source": [
    "## Disease Extraction"
   ]
  },
  {
   "cell_type": "code",
   "execution_count": 13,
   "metadata": {},
   "outputs": [],
   "source": [
    "def get_disease_data(root_dir):\n",
    "    mesh_file = os.path.join(root_dir, 'd2021.bin')\n",
    "    disgenet_file = os.path.join(root_dir, 'disease_mappings.tsv')\n",
    "    submesh_file = os.path.join(root_dir, \"c2021.bin\")\n",
    "    return  MeshData(mesh_file, submesh_file, disgenet_file, filter_categ=[\"C\",\"F01\",\"F02\",\"F03\"])\n",
    "mesh_dis_data = get_disease_data(DATA_DIR + 'disease_data/2021')"
   ]
  },
  {
   "cell_type": "code",
   "execution_count": 14,
   "metadata": {},
   "outputs": [],
   "source": [
    "from data_parsers import DiseaseExtract\n",
    "disease_matcher = DiseaseExtract(data_year=2021, data_dir=f'{DATA_DIR}/')\n",
    "parsed_trial['mesh_ids'] = disease_matcher.get_disease_ids(parsed_trial)"
   ]
  },
  {
   "cell_type": "markdown",
   "metadata": {},
   "source": [
    "## Drug mapping"
   ]
  },
  {
   "cell_type": "code",
   "execution_count": 15,
   "metadata": {},
   "outputs": [],
   "source": [
    "from data_parsers import DrugMatcher, get_intervention_drug_ids"
   ]
  },
  {
   "cell_type": "code",
   "execution_count": 16,
   "metadata": {},
   "outputs": [
    {
     "name": "stderr",
     "output_type": "stream",
     "text": [
      "14315it [00:06, 2094.70it/s]\n",
      "1077691it [00:03, 342358.26it/s]\n"
     ]
    }
   ],
   "source": [
    "drug_matcher = DrugMatcher(data_paths={\n",
    "        'drug_data': f'{DATA_DIR}/drug_data/drugs_all_03_04_21.pkl',\n",
    "        'pubchem_synonyms': f'{DATA_DIR}/drug_data/pubchem-drugbankid-synonyms.json',\n",
    "        'rxnorm2drugbank-umls': f'{DATA_DIR}/drug_data/rxnorm2drugbank-umls.pkl',\n",
    "        'RXNCONSO': f'{DATA_DIR}/drug_data/RXNCONSO.RRF'\n",
    "})"
   ]
  },
  {
   "cell_type": "code",
   "execution_count": 17,
   "metadata": {},
   "outputs": [],
   "source": [
    "interventions = parsed_trial['intervention']\n",
    "for intervention in interventions:\n",
    "    get_intervention_drug_ids(drug_matcher, intervention, parsed_trial)"
   ]
  },
  {
   "cell_type": "markdown",
   "metadata": {},
   "source": [
    "## Outcome measures"
   ]
  },
  {
   "cell_type": "code",
   "execution_count": 18,
   "metadata": {},
   "outputs": [],
   "source": [
    "from data_parsers import OutcomeMeasureExtract\n",
    "outcome_extractor = OutcomeMeasureExtract(\n",
    "    f'{DATA_DIR}/outcome_data/clusters-outcome-measures.txt')\n",
    "\n",
    "outcome_extractor.load_phrase_models(f'{DATA_DIR}/outcome_data')"
   ]
  },
  {
   "cell_type": "code",
   "execution_count": 19,
   "metadata": {},
   "outputs": [],
   "source": [
    "outcome_extractor.populate_cids(parsed_trial)"
   ]
  },
  {
   "cell_type": "markdown",
   "metadata": {},
   "source": [
    "## UMLS Mapping"
   ]
  },
  {
   "cell_type": "code",
   "execution_count": 20,
   "metadata": {
    "scrolled": true
   },
   "outputs": [
    {
     "name": "stdout",
     "output_type": "stream",
     "text": [
      "UMLS Concept Cache loaded, found 272990 entries\n"
     ]
    },
    {
     "data": {
      "text/plain": [
       "{'ui': 'C0006826',\n",
       " 'concept': {'atoms': 'https://uts-ws.nlm.nih.gov/rest/content/2019AB/CUI/C0006826/atoms',\n",
       "  'suppressible': False,\n",
       "  'cvMemberCount': 0,\n",
       "  'atomCount': 317,\n",
       "  'definitions': 'https://uts-ws.nlm.nih.gov/rest/content/2019AB/CUI/C0006826/definitions',\n",
       "  'classType': 'Concept',\n",
       "  'relationCount': 109,\n",
       "  'status': 'R',\n",
       "  'majorRevisionDate': '09-03-2019',\n",
       "  'name': 'Malignant Neoplasms',\n",
       "  'attributeCount': 0,\n",
       "  'ui': 'C0006826',\n",
       "  'relations': 'https://uts-ws.nlm.nih.gov/rest/content/2019AB/CUI/C0006826/relations',\n",
       "  'defaultPreferredAtom': 'https://uts-ws.nlm.nih.gov/rest/content/2019AB/CUI/C0006826/atoms/preferred',\n",
       "  'semanticTypes': [{'uri': 'https://uts-ws.nlm.nih.gov/rest/semantic-network/2019AB/TUI/T191',\n",
       "    'name': 'Neoplastic Process'}],\n",
       "  'dateAdded': '09-30-1990'},\n",
       " 'uri': 'https://uts-ws.nlm.nih.gov/rest/content/2019AB/CUI/C0006826',\n",
       " 'name': 'Malignant Neoplasms',\n",
       " 'rootSource': 'MTH'}"
      ]
     },
     "execution_count": 20,
     "metadata": {},
     "output_type": "execute_result"
    }
   ],
   "source": [
    "from data_parsers import UMLSConceptSearcher\n",
    "\n",
    "umls_concept_searcher = UMLSConceptSearcher(api_key='4faabe39-74a6-4ba2-9480-e486fb07a5b2',\n",
    "                                           version='2020AB', cache_dir=f'{DATA_DIR}/population_data/umls_search_cache')\n",
    "umls_concept_searcher.search_term('cancer')"
   ]
  },
  {
   "cell_type": "code",
   "execution_count": 21,
   "metadata": {},
   "outputs": [
    {
     "name": "stderr",
     "output_type": "stream",
     "text": [
      "7964596it [00:09, 831797.65it/s]\n"
     ]
    }
   ],
   "source": [
    "from data_parsers.umls_utils import UMLSUtils\n",
    "umls_utils = UMLSUtils(f'{DATA_DIR}/population_data/umls-install/2020AB/')"
   ]
  },
  {
   "cell_type": "code",
   "execution_count": 22,
   "metadata": {},
   "outputs": [
    {
     "name": "stderr",
     "output_type": "stream",
     "text": [
      "29124214it [01:30, 322639.26it/s]\n"
     ]
    }
   ],
   "source": [
    "umls_utils.load_relations()"
   ]
  },
  {
   "cell_type": "code",
   "execution_count": 23,
   "metadata": {},
   "outputs": [
    {
     "data": {
      "text/plain": [
       "dict_keys(['nct_id', 'arm_group', 'intervention', 'condition', 'intervention_mesh_terms', 'event_groups', 'primary_outcome', 'secondary_outcome', 'eligibility_criteria', 'brief_summary', 'phase', 'enrollment', 'gender_sex', 'minimum_age', 'maximum_age', 'clinical_results', 'medex_raw', 'medex_processed', 'ec_umls', 'mesh_ids'])"
      ]
     },
     "execution_count": 23,
     "metadata": {},
     "output_type": "execute_result"
    }
   ],
   "source": [
    "parsed_trial.keys()"
   ]
  },
  {
   "cell_type": "code",
   "execution_count": 24,
   "metadata": {},
   "outputs": [],
   "source": [
    "umls_concept_searcher.set_umls_search(False)\n",
    "criteria_all = parsed_trial['ec_umls']\n",
    "for category in criteria_all:\n",
    "    for inclusion in criteria_all[category]:\n",
    "        for criterion in criteria_all[category][inclusion]:\n",
    "            criterion.map_concept(umls_concept_searcher)"
   ]
  },
  {
   "cell_type": "markdown",
   "metadata": {},
   "source": [
    "### UMLS parents cutoff"
   ]
  },
  {
   "cell_type": "code",
   "execution_count": 25,
   "metadata": {},
   "outputs": [],
   "source": [
    "umls_utils.cuid2parents = {}\n",
    "criteria_all = parsed_trial['ec_umls']\n",
    "for category in criteria_all:\n",
    "    for inclusion in criteria_all[category]:\n",
    "        for criterion in criteria_all[category][inclusion]:\n",
    "            if criterion.concept is not None:\n",
    "                criterion.parents = umls_utils.parents(criterion.concept['ui'])"
   ]
  },
  {
   "cell_type": "markdown",
   "metadata": {},
   "source": [
    "### TF-IDF matcher"
   ]
  },
  {
   "cell_type": "code",
   "execution_count": 26,
   "metadata": {},
   "outputs": [],
   "source": [
    "from data_parsers import UMLSTFIDFMatcher\n",
    "\n",
    "tfidf_matcher = UMLSTFIDFMatcher(umls_utils.cuid2concept, f'{DATA_DIR}/population_data/', None)"
   ]
  },
  {
   "cell_type": "code",
   "execution_count": 27,
   "metadata": {},
   "outputs": [],
   "source": [
    "tfidf_matcher.populate_result_single(parsed_trial['ec_umls'])"
   ]
  },
  {
   "cell_type": "markdown",
   "metadata": {},
   "source": [
    "### Map to parents based on frequency"
   ]
  },
  {
   "cell_type": "code",
   "execution_count": 28,
   "metadata": {},
   "outputs": [],
   "source": [
    "from data_parsers.population_extract import UMLSGraphClipper"
   ]
  },
  {
   "cell_type": "code",
   "execution_count": 29,
   "metadata": {},
   "outputs": [],
   "source": [
    "filepath = f\"{DATA_DIR}/population_data/umls_graph_clipper_output.pkl\"\n",
    "with open(filepath, \"rb\") as f:\n",
    "    g_clipper_state = pickle.load(f)\n",
    "    cuid2term = g_clipper_state['cuid2term'] "
   ]
  },
  {
   "cell_type": "markdown",
   "metadata": {},
   "source": [
    "## Load KG"
   ]
  },
  {
   "cell_type": "code",
   "execution_count": 30,
   "metadata": {},
   "outputs": [],
   "source": [
    "entity2cid_path = f'{DATA_DIR}/kg_data/kg-entity2cid-31_7_21.pkl'\n",
    "with open(entity2cid_path, 'rb') as f:\n",
    "    entity2cid = pickle.load(f)"
   ]
  },
  {
   "cell_type": "code",
   "execution_count": 31,
   "metadata": {},
   "outputs": [],
   "source": [
    "node_feats_path = f'{DATA_DIR}/kg_data/node_features_armtext.pkl'\n",
    "with open(node_feats_path, 'rb') as f:\n",
    "    node_feats = pickle.load(f)"
   ]
  },
  {
   "cell_type": "code",
   "execution_count": 32,
   "metadata": {},
   "outputs": [
    {
     "data": {
      "text/html": [
       "<div>\n",
       "<style scoped>\n",
       "    .dataframe tbody tr th:only-of-type {\n",
       "        vertical-align: middle;\n",
       "    }\n",
       "\n",
       "    .dataframe tbody tr th {\n",
       "        vertical-align: top;\n",
       "    }\n",
       "\n",
       "    .dataframe thead th {\n",
       "        text-align: right;\n",
       "    }\n",
       "</style>\n",
       "<table border=\"1\" class=\"dataframe\">\n",
       "  <thead>\n",
       "    <tr style=\"text-align: right;\">\n",
       "      <th></th>\n",
       "      <th>node_id</th>\n",
       "      <th>emb</th>\n",
       "      <th>etype</th>\n",
       "    </tr>\n",
       "  </thead>\n",
       "  <tbody>\n",
       "    <tr>\n",
       "      <th>0</th>\n",
       "      <td>KG00000000</td>\n",
       "      <td>[-0.031794183, 0.023484211, -0.7169324, -0.145...</td>\n",
       "      <td>DISEASE</td>\n",
       "    </tr>\n",
       "  </tbody>\n",
       "</table>\n",
       "</div>"
      ],
      "text/plain": [
       "      node_id                                                emb    etype\n",
       "0  KG00000000  [-0.031794183, 0.023484211, -0.7169324, -0.145...  DISEASE"
      ]
     },
     "execution_count": 32,
     "metadata": {},
     "output_type": "execute_result"
    }
   ],
   "source": [
    "node_feats.head(1)"
   ]
  },
  {
   "cell_type": "code",
   "execution_count": 33,
   "metadata": {},
   "outputs": [],
   "source": [
    "from knowledge_graph import KnowledgeGraphBuilder, BioKG\n",
    "from knowledge_graph.kg import Entity,EntityKey, EntityType, Source, Relation, UnionFind\n",
    "from knowledge_graph.build_graph import TrialGraphBuilder"
   ]
  },
  {
   "cell_type": "code",
   "execution_count": 34,
   "metadata": {},
   "outputs": [
    {
     "name": "stdout",
     "output_type": "stream",
     "text": [
      "./parsing_package/data//kg_data/external_data/go/go-basic.obo: fmt(1.2) rel(2021-02-01) 47,291 GO Terms; optional_attrs(relationship xref)\n"
     ]
    }
   ],
   "source": [
    "ext_basepath = f'{DATA_DIR}/kg_data/external_data'\n",
    "builder = KnowledgeGraphBuilder(disease_matcher.mesh_dis_data, drug_matcher.drug_data, ext_basepath, \n",
    "                                cuid2term, umls_utils, umls_graph_clip_threshold=10,\n",
    "                                build_ae=False)"
   ]
  },
  {
   "cell_type": "code",
   "execution_count": 35,
   "metadata": {},
   "outputs": [
    {
     "name": "stderr",
     "output_type": "stream",
     "text": [
      "100%|███████████████████████████████████| 5751/5751 [00:00<00:00, 113489.70it/s]\n"
     ]
    }
   ],
   "source": [
    "builder.biokg = BioKG()\n",
    "builder._disease_disease()\n",
    "builder._mesh_children()\n",
    "builder.biokg = BioKG()"
   ]
  },
  {
   "cell_type": "code",
   "execution_count": 36,
   "metadata": {
    "scrolled": true
   },
   "outputs": [
    {
     "name": "stderr",
     "output_type": "stream",
     "text": [
      "100%|███████████████████████████████████| 5751/5751 [00:00<00:00, 111978.69it/s]\n",
      "14315it [00:01, 7769.65it/s]\n",
      "100%|████████████████████████████████| 387626/387626 [00:22<00:00, 17053.53it/s]\n",
      "100%|██████████████████████████████████| 47291/47291 [00:00<00:00, 49382.89it/s]\n",
      "100%|███████████████████████████████| 118856/118856 [00:00<00:00, 256342.75it/s]\n",
      "100%|█████████████████████████████████| 22477/22477 [00:00<00:00, 104949.23it/s]\n"
     ]
    },
    {
     "name": "stdout",
     "output_type": "stream",
     "text": [
      "1084\n"
     ]
    },
    {
     "name": "stderr",
     "output_type": "stream",
     "text": [
      "100%|█████████████████████████████████| 83652/83652 [00:00<00:00, 132118.04it/s]\n"
     ]
    },
    {
     "name": "stdout",
     "output_type": "stream",
     "text": [
      "1741\n"
     ]
    },
    {
     "name": "stderr",
     "output_type": "stream",
     "text": [
      "100%|██████████████████████████████| 242889/242889 [00:00<00:00, 1980378.57it/s]\n",
      "100%|█████████████████████████████████| 84038/84038 [00:00<00:00, 130348.28it/s]\n"
     ]
    },
    {
     "name": "stdout",
     "output_type": "stream",
     "text": [
      "12807 6655 3189\n"
     ]
    },
    {
     "name": "stderr",
     "output_type": "stream",
     "text": [
      "7964596it [00:43, 184455.24it/s]\n"
     ]
    }
   ],
   "source": [
    "builder.biokg = BioKG()\n",
    "builder._disease_disease()\n",
    "builder._drug_drug()\n",
    "builder._protein_protein()\n",
    "builder._function_function()\n",
    "builder._protein_function()\n",
    "builder._drug_protein()\n",
    "builder._drug_phenotype()\n",
    "builder._disease_gene()\n",
    "\n",
    "# trials Stuff\n",
    "builder._umls()\n",
    "if builder.build_ae:\n",
    "    builder._ae_ae()\n",
    "    builder._ae_protein()\n",
    "builder._primary_outcomes(f'{DATA_DIR}/outcome_data/clusters-outcome-measures.txt')"
   ]
  },
  {
   "cell_type": "code",
   "execution_count": 37,
   "metadata": {},
   "outputs": [],
   "source": [
    "parsed_trial['has_results'] = False"
   ]
  },
  {
   "cell_type": "code",
   "execution_count": 38,
   "metadata": {},
   "outputs": [],
   "source": [
    "trial_builder = TrialGraphBuilder(builder, parsed_trial)"
   ]
  },
  {
   "cell_type": "code",
   "execution_count": 39,
   "metadata": {},
   "outputs": [],
   "source": [
    "trial_builder.build(use_population=True)"
   ]
  },
  {
   "cell_type": "code",
   "execution_count": 40,
   "metadata": {},
   "outputs": [
    {
     "data": {
      "text/plain": [
       "{'durlaza™, 1 capsule': 0, 'durlaza™, 2 capsules': 1}"
      ]
     },
     "execution_count": 40,
     "metadata": {},
     "output_type": "execute_result"
    }
   ],
   "source": [
    "trial_builder.arm_labels"
   ]
  },
  {
   "cell_type": "code",
   "execution_count": 41,
   "metadata": {},
   "outputs": [],
   "source": [
    "uf = UnionFind()\n",
    "cnt = 0\n",
    "for u, v, data in builder.biokg.graph.edges(data=True):\n",
    "    if data['relation'] == 'KG-MERGE-SAME':\n",
    "        cnt += 1\n",
    "        uf.union(u, v)"
   ]
  },
  {
   "cell_type": "code",
   "execution_count": 42,
   "metadata": {},
   "outputs": [
    {
     "data": {
      "text/plain": [
       "7732"
      ]
     },
     "execution_count": 42,
     "metadata": {},
     "output_type": "execute_result"
    }
   ],
   "source": [
    "cnt"
   ]
  },
  {
   "cell_type": "code",
   "execution_count": 43,
   "metadata": {},
   "outputs": [],
   "source": [
    "from knowledge_graph.node_features import TrialAttributeFeatures\n",
    "\n",
    "trial_attribute_featurizer = TrialAttributeFeatures(attributes=('age', 'gender', 'enrollment', 'phase'))\n",
    "\n",
    "def _phase_feature_vec(phases):\n",
    "    v = [0] * 5\n",
    "    for phase in phases:\n",
    "        if phase in ['EARLY_PHASE1', 'PHASE1']:\n",
    "            v[1] = 1\n",
    "        elif phase == 'N/A':\n",
    "            v[0] = 1\n",
    "        elif phase == 'PHASE2':\n",
    "            v[2] = 1\n",
    "        elif phase == 'PHASE3':\n",
    "            v[3] = 1\n",
    "        elif phase == 'PHASE4':\n",
    "            v[4] = 1\n",
    "#         elif phase == 'Phase 1/Phase 2':\n",
    "#             v[1] = 1\n",
    "#             v[2] = 1\n",
    "#         elif phase == 'Phase 2/Phase 3':\n",
    "#             v[2] = 1\n",
    "#             v[3] = 1\n",
    "        else:\n",
    "            raise RuntimeError(f\"Unknown phase: {phase}\")\n",
    "    return v\n",
    "\n",
    "def _enrollment_feat(enrollment):\n",
    "    is_anticipated = False\n",
    "    if type(enrollment) == dict:\n",
    "        if enrollment['type'] == 'ANTICIPATED':\n",
    "            is_anticipated = True\n",
    "        return [math.log(1 + enrollment['count']), int(is_anticipated)]\n",
    "    if np.isnan(enrollment):\n",
    "        return [0, 0]\n",
    "    return [math.log(1 + enrollment), 0]\n",
    "\n",
    "\n",
    "def _sex_vec(sex):\n",
    "    if sex is None or type(sex) == float:\n",
    "        return [0, 0, 0]\n",
    "    sex_to_feats = {\n",
    "        'ALL': [1, 0, 0],\n",
    "        \"MALE\": [0, 1, 0],\n",
    "        \"FEMALE\": [0, 0, 1]\n",
    "    }\n",
    "    return sex_to_feats[sex]\n",
    "    \n",
    "def features(self, trial_row):\n",
    "    data = {}\n",
    "    data['phase_vec'] = _phase_feature_vec(trial_row['phase'])\n",
    "    data['enrollment_vec'] = _enrollment_feat(trial_row['enrollment'])\n",
    "    data['gender_sex_vec'] = _sex_vec(trial_row['gender_sex'])\n",
    "    data['minimum_age_vec'] = self._age_vec(trial_row['minimum_age'] or 0.0)\n",
    "    data['maximum_age_vec'] = self._age_vec(trial_row['maximum_age'] or 0.0)\n",
    "\n",
    "    def merge_vecs(row):\n",
    "        feats = []\n",
    "        for attribute in self.attributes:\n",
    "            if attribute == 'phase':\n",
    "                feats.extend(row['phase_vec'])\n",
    "            elif attribute == 'enrollment':\n",
    "                feats.extend(row['enrollment_vec'])\n",
    "            elif attribute == 'gender':\n",
    "                feats.extend(row['gender_sex_vec'])\n",
    "            elif attribute == 'age':\n",
    "                feats.extend(row['minimum_age_vec'])\n",
    "                feats.extend(row['maximum_age_vec'])\n",
    "            elif attribute == 'age_class':\n",
    "                feats.extend(row['age_vec_2'])\n",
    "            else:\n",
    "                raise RuntimeError(f\"Unknown attributes ({attribute}) for features\")\n",
    "        return np.array(feats)\n",
    "    return merge_vecs(data)\n",
    "\n",
    "trial_attribute_feats = features(trial_attribute_featurizer, parsed_trial)"
   ]
  },
  {
   "cell_type": "code",
   "execution_count": 44,
   "metadata": {},
   "outputs": [],
   "source": [
    "def get_arm_text(row):\n",
    "    arm2text = {}\n",
    "    nct2text = {}\n",
    "    summary = row['brief_summary']\n",
    "    disease_text = ''\n",
    "    for disease in row['condition']:\n",
    "        disease_text += disease + \" \"\n",
    "    outcome_text = ''\n",
    "    if type(row['primary_outcome']) != float:\n",
    "        for pom in row.get('primary_outcome', []):\n",
    "            outcome_text += pom.get('measure', '') + \" \"\n",
    "    criteria = row['eligibility_criteria']\n",
    "    if type(criteria) == float:\n",
    "        criteria = ''\n",
    "        \n",
    "    arm2intervention = {}\n",
    "    for intervention in row['intervention']:\n",
    "        intervention_text = intervention['intervention_name'] + ' '\n",
    "        intervention_desc = intervention.get('description', '') + ' '\n",
    "        arm_group_label = intervention.get('arm_group_label', ['default'])\n",
    "        if not isinstance(arm_group_label, list):\n",
    "            arm_group_label = ['default'] \n",
    "        for arm_label in arm_group_label:\n",
    "            arm_label = arm_label.lower()\n",
    "            arm2intervention[arm_label] = (intervention_text, intervention_desc)\n",
    "          \n",
    "    arms = row['arm_group']\n",
    "    if not isinstance(arms, list):\n",
    "        arms = [{'arm_group_label': 'default', 'arm_group_type': ''}]\n",
    "    \n",
    "    for idx, arm in enumerate(arms):\n",
    "        arm_text = arm['arm_group_label'] + \" \" + arm.get('description', '')\n",
    "        if arm['arm_group_label'].lower() in arm2intervention:\n",
    "            intervention_text, intervention_desc = arm2intervention[arm['arm_group_label'].lower()]\n",
    "        else:\n",
    "            intervention_text, intervention_desc = '', ''\n",
    "        all_text = \" \".join([intervention_text, disease_text, outcome_text, arm_text, summary, intervention_desc, criteria])\n",
    "        arm2text[row['nct_id'], idx] = all_text\n",
    "        nct2text[row['nct_id']] = [disease_text, outcome_text, summary, criteria]\n",
    "    return arm2text, nct2text\n",
    "    "
   ]
  },
  {
   "cell_type": "code",
   "execution_count": 45,
   "metadata": {},
   "outputs": [],
   "source": [
    "trial_data = []\n",
    "arm2text, _ = get_arm_text(parsed_trial)\n",
    "for arm_label, arm_idx in trial_builder.arm_labels.items():\n",
    "    trial_arm_data = []\n",
    "    for u, v, k, data in builder.biokg.graph.edges(nbunch=[trial_builder.arm_key(arm_idx)], data=True, keys=True):\n",
    "#         print(u, v, k, data['relation'], entity2cid[uf.find_parent(v)])\n",
    "        trial_arm_data.append({\n",
    "            'kg_id': entity2cid[uf.find_parent(v)],\n",
    "            'relation': data['relation'],\n",
    "            'key': k,\n",
    "            'data': data\n",
    "        })\n",
    "    trial_data.append({\n",
    "        'nct_id': parsed_trial['nct_id'],\n",
    "        'arm_label': arm_label,\n",
    "        'arm_idx': arm_idx,\n",
    "        'trial_arm_edges': trial_arm_data,\n",
    "        'arm_text': arm2text[parsed_trial['nct_id'], arm_idx],\n",
    "        'trial_attribute_feats_vec': trial_attribute_feats\n",
    "    })\n",
    "    \n",
    "#     if data['relation'] == 'KG-MERGE-SAME':\n",
    "#         continue\n",
    "#     cidu = entity2concept[uf.find_parent(u)]\n",
    "#     cidv = entity2concept[uf.find_parent(v)]\n",
    "#     if not g.has_edge(cidu, cidv, k):\n",
    "#         g.add_edge(cidu, cidv, key=k, relation=data['relation'], source=data['source'], attrs=[data['attrs']],\n",
    "#                    extra_attrs={})\n",
    "#     elif data['attrs']:\n",
    "#         g.edges[cidu, cidv, k]['attrs'].append(data['attrs'])"
   ]
  },
  {
   "cell_type": "code",
   "execution_count": 46,
   "metadata": {},
   "outputs": [
    {
     "data": {
      "text/plain": [
       "[{'nct_id': 'NCT02370680',\n",
       "  'arm_label': 'durlaza™, 1 capsule',\n",
       "  'arm_idx': 0,\n",
       "  'trial_arm_edges': [{'kg_id': 'KG00000863',\n",
       "    'relation': 'study-disease',\n",
       "    'key': Relation(name='study-disease', source=<Source.CLINICAL_TRIAL: (9,)>),\n",
       "    'data': {'relation': 'study-disease',\n",
       "     'source': <Source.CLINICAL_TRIAL: (9,)>,\n",
       "     'attrs': {}}},\n",
       "   {'kg_id': 'KG00122148',\n",
       "    'relation': 'primary_outcome',\n",
       "    'key': Relation(name='primary_outcome', source=<Source.CLINICAL_TRIAL: (9,)>),\n",
       "    'data': {'relation': 'primary_outcome',\n",
       "     'source': <Source.CLINICAL_TRIAL: (9,)>,\n",
       "     'attrs': {}}},\n",
       "   {'kg_id': 'KG00020807',\n",
       "    'relation': 'arm_tests_drug',\n",
       "    'key': Relation(name='arm_tests_drug', source=<Source.CLINICAL_TRIAL: (9,)>),\n",
       "    'data': {'relation': 'arm_tests_drug',\n",
       "     'source': <Source.CLINICAL_TRIAL: (9,)>,\n",
       "     'attrs': {}}},\n",
       "   {'kg_id': 'KG00074632',\n",
       "    'relation': 'eligibility-exclusion',\n",
       "    'key': Relation(name='eligibility-exclusion', source=<Source.CLINICAL_TRIAL: (9,)>),\n",
       "    'data': {'relation': 'eligibility-exclusion',\n",
       "     'source': <Source.CLINICAL_TRIAL: (9,)>,\n",
       "     'attrs': {}}},\n",
       "   {'kg_id': 'KG00096684',\n",
       "    'relation': 'eligibility-exclusion',\n",
       "    'key': Relation(name='eligibility-exclusion', source=<Source.CLINICAL_TRIAL: (9,)>),\n",
       "    'data': {'relation': 'eligibility-exclusion',\n",
       "     'source': <Source.CLINICAL_TRIAL: (9,)>,\n",
       "     'attrs': {}}},\n",
       "   {'kg_id': 'KG00074303',\n",
       "    'relation': 'eligibility-exclusion',\n",
       "    'key': Relation(name='eligibility-exclusion', source=<Source.CLINICAL_TRIAL: (9,)>),\n",
       "    'data': {'relation': 'eligibility-exclusion',\n",
       "     'source': <Source.CLINICAL_TRIAL: (9,)>,\n",
       "     'attrs': {}}},\n",
       "   {'kg_id': 'KG00003957',\n",
       "    'relation': 'eligibility-exclusion',\n",
       "    'key': Relation(name='eligibility-exclusion', source=<Source.CLINICAL_TRIAL: (9,)>),\n",
       "    'data': {'relation': 'eligibility-exclusion',\n",
       "     'source': <Source.CLINICAL_TRIAL: (9,)>,\n",
       "     'attrs': {}}},\n",
       "   {'kg_id': 'KG00001910',\n",
       "    'relation': 'eligibility-exclusion',\n",
       "    'key': Relation(name='eligibility-exclusion', source=<Source.CLINICAL_TRIAL: (9,)>),\n",
       "    'data': {'relation': 'eligibility-exclusion',\n",
       "     'source': <Source.CLINICAL_TRIAL: (9,)>,\n",
       "     'attrs': {}}},\n",
       "   {'kg_id': 'KG00097009',\n",
       "    'relation': 'eligibility-exclusion',\n",
       "    'key': Relation(name='eligibility-exclusion', source=<Source.CLINICAL_TRIAL: (9,)>),\n",
       "    'data': {'relation': 'eligibility-exclusion',\n",
       "     'source': <Source.CLINICAL_TRIAL: (9,)>,\n",
       "     'attrs': {}}},\n",
       "   {'kg_id': 'KG00002487',\n",
       "    'relation': 'eligibility-exclusion',\n",
       "    'key': Relation(name='eligibility-exclusion', source=<Source.CLINICAL_TRIAL: (9,)>),\n",
       "    'data': {'relation': 'eligibility-exclusion',\n",
       "     'source': <Source.CLINICAL_TRIAL: (9,)>,\n",
       "     'attrs': {}}},\n",
       "   {'kg_id': 'KG00075511',\n",
       "    'relation': 'eligibility-exclusion',\n",
       "    'key': Relation(name='eligibility-exclusion', source=<Source.CLINICAL_TRIAL: (9,)>),\n",
       "    'data': {'relation': 'eligibility-exclusion',\n",
       "     'source': <Source.CLINICAL_TRIAL: (9,)>,\n",
       "     'attrs': {}}},\n",
       "   {'kg_id': 'KG00000908',\n",
       "    'relation': 'eligibility-exclusion',\n",
       "    'key': Relation(name='eligibility-exclusion', source=<Source.CLINICAL_TRIAL: (9,)>),\n",
       "    'data': {'relation': 'eligibility-exclusion',\n",
       "     'source': <Source.CLINICAL_TRIAL: (9,)>,\n",
       "     'attrs': {}}},\n",
       "   {'kg_id': 'KG00080489',\n",
       "    'relation': 'eligibility-exclusion',\n",
       "    'key': Relation(name='eligibility-exclusion', source=<Source.CLINICAL_TRIAL: (9,)>),\n",
       "    'data': {'relation': 'eligibility-exclusion',\n",
       "     'source': <Source.CLINICAL_TRIAL: (9,)>,\n",
       "     'attrs': {}}},\n",
       "   {'kg_id': 'KG00087549',\n",
       "    'relation': 'eligibility-exclusion',\n",
       "    'key': Relation(name='eligibility-exclusion', source=<Source.CLINICAL_TRIAL: (9,)>),\n",
       "    'data': {'relation': 'eligibility-exclusion',\n",
       "     'source': <Source.CLINICAL_TRIAL: (9,)>,\n",
       "     'attrs': {}}},\n",
       "   {'kg_id': 'KG00004538',\n",
       "    'relation': 'eligibility-exclusion',\n",
       "    'key': Relation(name='eligibility-exclusion', source=<Source.CLINICAL_TRIAL: (9,)>),\n",
       "    'data': {'relation': 'eligibility-exclusion',\n",
       "     'source': <Source.CLINICAL_TRIAL: (9,)>,\n",
       "     'attrs': {}}},\n",
       "   {'kg_id': 'KG00001064',\n",
       "    'relation': 'eligibility-exclusion',\n",
       "    'key': Relation(name='eligibility-exclusion', source=<Source.CLINICAL_TRIAL: (9,)>),\n",
       "    'data': {'relation': 'eligibility-exclusion',\n",
       "     'source': <Source.CLINICAL_TRIAL: (9,)>,\n",
       "     'attrs': {}}},\n",
       "   {'kg_id': 'KG00094310',\n",
       "    'relation': 'eligibility-exclusion',\n",
       "    'key': Relation(name='eligibility-exclusion', source=<Source.CLINICAL_TRIAL: (9,)>),\n",
       "    'data': {'relation': 'eligibility-exclusion',\n",
       "     'source': <Source.CLINICAL_TRIAL: (9,)>,\n",
       "     'attrs': {}}},\n",
       "   {'kg_id': 'KG00080518',\n",
       "    'relation': 'eligibility-exclusion',\n",
       "    'key': Relation(name='eligibility-exclusion', source=<Source.CLINICAL_TRIAL: (9,)>),\n",
       "    'data': {'relation': 'eligibility-exclusion',\n",
       "     'source': <Source.CLINICAL_TRIAL: (9,)>,\n",
       "     'attrs': {}}},\n",
       "   {'kg_id': 'KG00094395',\n",
       "    'relation': 'eligibility-exclusion',\n",
       "    'key': Relation(name='eligibility-exclusion', source=<Source.CLINICAL_TRIAL: (9,)>),\n",
       "    'data': {'relation': 'eligibility-exclusion',\n",
       "     'source': <Source.CLINICAL_TRIAL: (9,)>,\n",
       "     'attrs': {}}},\n",
       "   {'kg_id': 'KG00001794',\n",
       "    'relation': 'eligibility-exclusion',\n",
       "    'key': Relation(name='eligibility-exclusion', source=<Source.CLINICAL_TRIAL: (9,)>),\n",
       "    'data': {'relation': 'eligibility-exclusion',\n",
       "     'source': <Source.CLINICAL_TRIAL: (9,)>,\n",
       "     'attrs': {}}},\n",
       "   {'kg_id': 'KG00000356',\n",
       "    'relation': 'eligibility-exclusion',\n",
       "    'key': Relation(name='eligibility-exclusion', source=<Source.CLINICAL_TRIAL: (9,)>),\n",
       "    'data': {'relation': 'eligibility-exclusion',\n",
       "     'source': <Source.CLINICAL_TRIAL: (9,)>,\n",
       "     'attrs': {}}},\n",
       "   {'kg_id': 'KG00083275',\n",
       "    'relation': 'eligibility-exclusion',\n",
       "    'key': Relation(name='eligibility-exclusion', source=<Source.CLINICAL_TRIAL: (9,)>),\n",
       "    'data': {'relation': 'eligibility-exclusion',\n",
       "     'source': <Source.CLINICAL_TRIAL: (9,)>,\n",
       "     'attrs': {}}},\n",
       "   {'kg_id': 'KG00020760',\n",
       "    'relation': 'eligibility-exclusion',\n",
       "    'key': Relation(name='eligibility-exclusion', source=<Source.CLINICAL_TRIAL: (9,)>),\n",
       "    'data': {'relation': 'eligibility-exclusion',\n",
       "     'source': <Source.CLINICAL_TRIAL: (9,)>,\n",
       "     'attrs': {}}},\n",
       "   {'kg_id': 'KG00072723',\n",
       "    'relation': 'eligibility-exclusion',\n",
       "    'key': Relation(name='eligibility-exclusion', source=<Source.CLINICAL_TRIAL: (9,)>),\n",
       "    'data': {'relation': 'eligibility-exclusion',\n",
       "     'source': <Source.CLINICAL_TRIAL: (9,)>,\n",
       "     'attrs': {}}},\n",
       "   {'kg_id': 'KG00089307',\n",
       "    'relation': 'eligibility-exclusion',\n",
       "    'key': Relation(name='eligibility-exclusion', source=<Source.CLINICAL_TRIAL: (9,)>),\n",
       "    'data': {'relation': 'eligibility-exclusion',\n",
       "     'source': <Source.CLINICAL_TRIAL: (9,)>,\n",
       "     'attrs': {}}},\n",
       "   {'kg_id': 'KG00077383',\n",
       "    'relation': 'eligibility-exclusion',\n",
       "    'key': Relation(name='eligibility-exclusion', source=<Source.CLINICAL_TRIAL: (9,)>),\n",
       "    'data': {'relation': 'eligibility-exclusion',\n",
       "     'source': <Source.CLINICAL_TRIAL: (9,)>,\n",
       "     'attrs': {}}},\n",
       "   {'kg_id': 'KG00020807',\n",
       "    'relation': 'eligibility-exclusion',\n",
       "    'key': Relation(name='eligibility-exclusion', source=<Source.CLINICAL_TRIAL: (9,)>),\n",
       "    'data': {'relation': 'eligibility-exclusion',\n",
       "     'source': <Source.CLINICAL_TRIAL: (9,)>,\n",
       "     'attrs': {}}},\n",
       "   {'kg_id': 'KG00097024',\n",
       "    'relation': 'eligibility-exclusion',\n",
       "    'key': Relation(name='eligibility-exclusion', source=<Source.CLINICAL_TRIAL: (9,)>),\n",
       "    'data': {'relation': 'eligibility-exclusion',\n",
       "     'source': <Source.CLINICAL_TRIAL: (9,)>,\n",
       "     'attrs': {}}},\n",
       "   {'kg_id': 'KG00085587',\n",
       "    'relation': 'eligibility-exclusion',\n",
       "    'key': Relation(name='eligibility-exclusion', source=<Source.CLINICAL_TRIAL: (9,)>),\n",
       "    'data': {'relation': 'eligibility-exclusion',\n",
       "     'source': <Source.CLINICAL_TRIAL: (9,)>,\n",
       "     'attrs': {}}}],\n",
       "  'arm_text': \"Durlaza™  Cardiovascular Disease  change in platelet aggregation  Durlaza™, 1 capsule Aspirin run-in, followed with Durlaza™, one capsule QD (quaque die), for 14 ± 4 days and an in-patient visit This study is being conducted to evaluate the safety and the length of effect on platelet build-up in the arteries of Durlaza™ as compared to immediate-release Bayer® aspirin 81 mg or subject's current aspirin 81 mg of choice in patients who have Type 2 diabetes mellitus and cardiovascular disease or multiple risk factors of developing cardiovascular disease. comparison of different numbers of capsules  Inclusion Criteria:\\n\\n* Male or non-lactating, non-pregnant female subjects\\n* A history of Type 2 Diabetes and with history of at least one of the following: Coronary Artery Disease, Peripheral Vascular Disease, or Ischemic Stroke, along with at least 2 CVD risk factors (obese, smoker, ≥ 55 years of age, prior thrombotic event)\\n\\nExclusion Criteria:\\n\\n* Sensitivity to aspirin or any NSAID (nonsteroidal antiinflammatory drug),\\n* Evidence of uncontrolled or unstable cardio- or cerebrovascular disorder,\\n* Presence of uncontrolled or chronic medical illness, GI disorder or surgery leading to impaired drug absorption, clinically significant abnormal baseline ECG, history of hepatitis, malignancy within the past five years, or HIV, history of alcohol or drug abuse.\",\n",
       "  'trial_attribute_feats_vec': array([ 0.        , 18.        ,  0.        ,  0.        ,  1.        ,\n",
       "          0.        ,  0.        ,  0.        ,  1.        ,  0.        ,\n",
       "          0.        ,  3.73766962,  0.        ,  0.        ,  1.        ,\n",
       "          0.        ,  0.        ,  0.        ])},\n",
       " {'nct_id': 'NCT02370680',\n",
       "  'arm_label': 'durlaza™, 2 capsules',\n",
       "  'arm_idx': 1,\n",
       "  'trial_arm_edges': [{'kg_id': 'KG00000863',\n",
       "    'relation': 'study-disease',\n",
       "    'key': Relation(name='study-disease', source=<Source.CLINICAL_TRIAL: (9,)>),\n",
       "    'data': {'relation': 'study-disease',\n",
       "     'source': <Source.CLINICAL_TRIAL: (9,)>,\n",
       "     'attrs': {}}},\n",
       "   {'kg_id': 'KG00122148',\n",
       "    'relation': 'primary_outcome',\n",
       "    'key': Relation(name='primary_outcome', source=<Source.CLINICAL_TRIAL: (9,)>),\n",
       "    'data': {'relation': 'primary_outcome',\n",
       "     'source': <Source.CLINICAL_TRIAL: (9,)>,\n",
       "     'attrs': {}}},\n",
       "   {'kg_id': 'KG00020807',\n",
       "    'relation': 'arm_tests_drug',\n",
       "    'key': Relation(name='arm_tests_drug', source=<Source.CLINICAL_TRIAL: (9,)>),\n",
       "    'data': {'relation': 'arm_tests_drug',\n",
       "     'source': <Source.CLINICAL_TRIAL: (9,)>,\n",
       "     'attrs': {}}},\n",
       "   {'kg_id': 'KG00074632',\n",
       "    'relation': 'eligibility-exclusion',\n",
       "    'key': Relation(name='eligibility-exclusion', source=<Source.CLINICAL_TRIAL: (9,)>),\n",
       "    'data': {'relation': 'eligibility-exclusion',\n",
       "     'source': <Source.CLINICAL_TRIAL: (9,)>,\n",
       "     'attrs': {}}},\n",
       "   {'kg_id': 'KG00096684',\n",
       "    'relation': 'eligibility-exclusion',\n",
       "    'key': Relation(name='eligibility-exclusion', source=<Source.CLINICAL_TRIAL: (9,)>),\n",
       "    'data': {'relation': 'eligibility-exclusion',\n",
       "     'source': <Source.CLINICAL_TRIAL: (9,)>,\n",
       "     'attrs': {}}},\n",
       "   {'kg_id': 'KG00074303',\n",
       "    'relation': 'eligibility-exclusion',\n",
       "    'key': Relation(name='eligibility-exclusion', source=<Source.CLINICAL_TRIAL: (9,)>),\n",
       "    'data': {'relation': 'eligibility-exclusion',\n",
       "     'source': <Source.CLINICAL_TRIAL: (9,)>,\n",
       "     'attrs': {}}},\n",
       "   {'kg_id': 'KG00003957',\n",
       "    'relation': 'eligibility-exclusion',\n",
       "    'key': Relation(name='eligibility-exclusion', source=<Source.CLINICAL_TRIAL: (9,)>),\n",
       "    'data': {'relation': 'eligibility-exclusion',\n",
       "     'source': <Source.CLINICAL_TRIAL: (9,)>,\n",
       "     'attrs': {}}},\n",
       "   {'kg_id': 'KG00001910',\n",
       "    'relation': 'eligibility-exclusion',\n",
       "    'key': Relation(name='eligibility-exclusion', source=<Source.CLINICAL_TRIAL: (9,)>),\n",
       "    'data': {'relation': 'eligibility-exclusion',\n",
       "     'source': <Source.CLINICAL_TRIAL: (9,)>,\n",
       "     'attrs': {}}},\n",
       "   {'kg_id': 'KG00097009',\n",
       "    'relation': 'eligibility-exclusion',\n",
       "    'key': Relation(name='eligibility-exclusion', source=<Source.CLINICAL_TRIAL: (9,)>),\n",
       "    'data': {'relation': 'eligibility-exclusion',\n",
       "     'source': <Source.CLINICAL_TRIAL: (9,)>,\n",
       "     'attrs': {}}},\n",
       "   {'kg_id': 'KG00002487',\n",
       "    'relation': 'eligibility-exclusion',\n",
       "    'key': Relation(name='eligibility-exclusion', source=<Source.CLINICAL_TRIAL: (9,)>),\n",
       "    'data': {'relation': 'eligibility-exclusion',\n",
       "     'source': <Source.CLINICAL_TRIAL: (9,)>,\n",
       "     'attrs': {}}},\n",
       "   {'kg_id': 'KG00075511',\n",
       "    'relation': 'eligibility-exclusion',\n",
       "    'key': Relation(name='eligibility-exclusion', source=<Source.CLINICAL_TRIAL: (9,)>),\n",
       "    'data': {'relation': 'eligibility-exclusion',\n",
       "     'source': <Source.CLINICAL_TRIAL: (9,)>,\n",
       "     'attrs': {}}},\n",
       "   {'kg_id': 'KG00000908',\n",
       "    'relation': 'eligibility-exclusion',\n",
       "    'key': Relation(name='eligibility-exclusion', source=<Source.CLINICAL_TRIAL: (9,)>),\n",
       "    'data': {'relation': 'eligibility-exclusion',\n",
       "     'source': <Source.CLINICAL_TRIAL: (9,)>,\n",
       "     'attrs': {}}},\n",
       "   {'kg_id': 'KG00080489',\n",
       "    'relation': 'eligibility-exclusion',\n",
       "    'key': Relation(name='eligibility-exclusion', source=<Source.CLINICAL_TRIAL: (9,)>),\n",
       "    'data': {'relation': 'eligibility-exclusion',\n",
       "     'source': <Source.CLINICAL_TRIAL: (9,)>,\n",
       "     'attrs': {}}},\n",
       "   {'kg_id': 'KG00087549',\n",
       "    'relation': 'eligibility-exclusion',\n",
       "    'key': Relation(name='eligibility-exclusion', source=<Source.CLINICAL_TRIAL: (9,)>),\n",
       "    'data': {'relation': 'eligibility-exclusion',\n",
       "     'source': <Source.CLINICAL_TRIAL: (9,)>,\n",
       "     'attrs': {}}},\n",
       "   {'kg_id': 'KG00004538',\n",
       "    'relation': 'eligibility-exclusion',\n",
       "    'key': Relation(name='eligibility-exclusion', source=<Source.CLINICAL_TRIAL: (9,)>),\n",
       "    'data': {'relation': 'eligibility-exclusion',\n",
       "     'source': <Source.CLINICAL_TRIAL: (9,)>,\n",
       "     'attrs': {}}},\n",
       "   {'kg_id': 'KG00001064',\n",
       "    'relation': 'eligibility-exclusion',\n",
       "    'key': Relation(name='eligibility-exclusion', source=<Source.CLINICAL_TRIAL: (9,)>),\n",
       "    'data': {'relation': 'eligibility-exclusion',\n",
       "     'source': <Source.CLINICAL_TRIAL: (9,)>,\n",
       "     'attrs': {}}},\n",
       "   {'kg_id': 'KG00094310',\n",
       "    'relation': 'eligibility-exclusion',\n",
       "    'key': Relation(name='eligibility-exclusion', source=<Source.CLINICAL_TRIAL: (9,)>),\n",
       "    'data': {'relation': 'eligibility-exclusion',\n",
       "     'source': <Source.CLINICAL_TRIAL: (9,)>,\n",
       "     'attrs': {}}},\n",
       "   {'kg_id': 'KG00080518',\n",
       "    'relation': 'eligibility-exclusion',\n",
       "    'key': Relation(name='eligibility-exclusion', source=<Source.CLINICAL_TRIAL: (9,)>),\n",
       "    'data': {'relation': 'eligibility-exclusion',\n",
       "     'source': <Source.CLINICAL_TRIAL: (9,)>,\n",
       "     'attrs': {}}},\n",
       "   {'kg_id': 'KG00094395',\n",
       "    'relation': 'eligibility-exclusion',\n",
       "    'key': Relation(name='eligibility-exclusion', source=<Source.CLINICAL_TRIAL: (9,)>),\n",
       "    'data': {'relation': 'eligibility-exclusion',\n",
       "     'source': <Source.CLINICAL_TRIAL: (9,)>,\n",
       "     'attrs': {}}},\n",
       "   {'kg_id': 'KG00001794',\n",
       "    'relation': 'eligibility-exclusion',\n",
       "    'key': Relation(name='eligibility-exclusion', source=<Source.CLINICAL_TRIAL: (9,)>),\n",
       "    'data': {'relation': 'eligibility-exclusion',\n",
       "     'source': <Source.CLINICAL_TRIAL: (9,)>,\n",
       "     'attrs': {}}},\n",
       "   {'kg_id': 'KG00000356',\n",
       "    'relation': 'eligibility-exclusion',\n",
       "    'key': Relation(name='eligibility-exclusion', source=<Source.CLINICAL_TRIAL: (9,)>),\n",
       "    'data': {'relation': 'eligibility-exclusion',\n",
       "     'source': <Source.CLINICAL_TRIAL: (9,)>,\n",
       "     'attrs': {}}},\n",
       "   {'kg_id': 'KG00083275',\n",
       "    'relation': 'eligibility-exclusion',\n",
       "    'key': Relation(name='eligibility-exclusion', source=<Source.CLINICAL_TRIAL: (9,)>),\n",
       "    'data': {'relation': 'eligibility-exclusion',\n",
       "     'source': <Source.CLINICAL_TRIAL: (9,)>,\n",
       "     'attrs': {}}},\n",
       "   {'kg_id': 'KG00020760',\n",
       "    'relation': 'eligibility-exclusion',\n",
       "    'key': Relation(name='eligibility-exclusion', source=<Source.CLINICAL_TRIAL: (9,)>),\n",
       "    'data': {'relation': 'eligibility-exclusion',\n",
       "     'source': <Source.CLINICAL_TRIAL: (9,)>,\n",
       "     'attrs': {}}},\n",
       "   {'kg_id': 'KG00072723',\n",
       "    'relation': 'eligibility-exclusion',\n",
       "    'key': Relation(name='eligibility-exclusion', source=<Source.CLINICAL_TRIAL: (9,)>),\n",
       "    'data': {'relation': 'eligibility-exclusion',\n",
       "     'source': <Source.CLINICAL_TRIAL: (9,)>,\n",
       "     'attrs': {}}},\n",
       "   {'kg_id': 'KG00089307',\n",
       "    'relation': 'eligibility-exclusion',\n",
       "    'key': Relation(name='eligibility-exclusion', source=<Source.CLINICAL_TRIAL: (9,)>),\n",
       "    'data': {'relation': 'eligibility-exclusion',\n",
       "     'source': <Source.CLINICAL_TRIAL: (9,)>,\n",
       "     'attrs': {}}},\n",
       "   {'kg_id': 'KG00077383',\n",
       "    'relation': 'eligibility-exclusion',\n",
       "    'key': Relation(name='eligibility-exclusion', source=<Source.CLINICAL_TRIAL: (9,)>),\n",
       "    'data': {'relation': 'eligibility-exclusion',\n",
       "     'source': <Source.CLINICAL_TRIAL: (9,)>,\n",
       "     'attrs': {}}},\n",
       "   {'kg_id': 'KG00020807',\n",
       "    'relation': 'eligibility-exclusion',\n",
       "    'key': Relation(name='eligibility-exclusion', source=<Source.CLINICAL_TRIAL: (9,)>),\n",
       "    'data': {'relation': 'eligibility-exclusion',\n",
       "     'source': <Source.CLINICAL_TRIAL: (9,)>,\n",
       "     'attrs': {}}},\n",
       "   {'kg_id': 'KG00097024',\n",
       "    'relation': 'eligibility-exclusion',\n",
       "    'key': Relation(name='eligibility-exclusion', source=<Source.CLINICAL_TRIAL: (9,)>),\n",
       "    'data': {'relation': 'eligibility-exclusion',\n",
       "     'source': <Source.CLINICAL_TRIAL: (9,)>,\n",
       "     'attrs': {}}},\n",
       "   {'kg_id': 'KG00085587',\n",
       "    'relation': 'eligibility-exclusion',\n",
       "    'key': Relation(name='eligibility-exclusion', source=<Source.CLINICAL_TRIAL: (9,)>),\n",
       "    'data': {'relation': 'eligibility-exclusion',\n",
       "     'source': <Source.CLINICAL_TRIAL: (9,)>,\n",
       "     'attrs': {}}}],\n",
       "  'arm_text': \"Durlaza™  Cardiovascular Disease  change in platelet aggregation  Durlaza™, 2 capsules in a rollover with 10 subjects from the first arm, an aspirin run-in, followed by Durlaza™, two capsules QD, for 14 ± 4 days and an in-patient visit This study is being conducted to evaluate the safety and the length of effect on platelet build-up in the arteries of Durlaza™ as compared to immediate-release Bayer® aspirin 81 mg or subject's current aspirin 81 mg of choice in patients who have Type 2 diabetes mellitus and cardiovascular disease or multiple risk factors of developing cardiovascular disease. comparison of different numbers of capsules  Inclusion Criteria:\\n\\n* Male or non-lactating, non-pregnant female subjects\\n* A history of Type 2 Diabetes and with history of at least one of the following: Coronary Artery Disease, Peripheral Vascular Disease, or Ischemic Stroke, along with at least 2 CVD risk factors (obese, smoker, ≥ 55 years of age, prior thrombotic event)\\n\\nExclusion Criteria:\\n\\n* Sensitivity to aspirin or any NSAID (nonsteroidal antiinflammatory drug),\\n* Evidence of uncontrolled or unstable cardio- or cerebrovascular disorder,\\n* Presence of uncontrolled or chronic medical illness, GI disorder or surgery leading to impaired drug absorption, clinically significant abnormal baseline ECG, history of hepatitis, malignancy within the past five years, or HIV, history of alcohol or drug abuse.\",\n",
       "  'trial_attribute_feats_vec': array([ 0.        , 18.        ,  0.        ,  0.        ,  1.        ,\n",
       "          0.        ,  0.        ,  0.        ,  1.        ,  0.        ,\n",
       "          0.        ,  3.73766962,  0.        ,  0.        ,  1.        ,\n",
       "          0.        ,  0.        ,  0.        ])}]"
      ]
     },
     "execution_count": 46,
     "metadata": {},
     "output_type": "execute_result"
    }
   ],
   "source": [
    "trial_data"
   ]
  },
  {
   "cell_type": "code",
   "execution_count": 47,
   "metadata": {},
   "outputs": [],
   "source": [
    "with open(f'{ROOT}/tmp/trial_data_NCT02370680.pkl', 'wb') as f:\n",
    "    pickle.dump(trial_data, f)"
   ]
  },
  {
   "cell_type": "code",
   "execution_count": null,
   "metadata": {},
   "outputs": [],
   "source": []
  }
 ],
 "metadata": {
  "kernelspec": {
   "display_name": "Python [conda env:ctpy38]",
   "language": "python",
   "name": "conda-env-ctpy38-py"
  },
  "language_info": {
   "codemirror_mode": {
    "name": "ipython",
    "version": 3
   },
   "file_extension": ".py",
   "mimetype": "text/x-python",
   "name": "python",
   "nbconvert_exporter": "python",
   "pygments_lexer": "ipython3",
   "version": "3.8.12"
  }
 },
 "nbformat": 4,
 "nbformat_minor": 2
}
