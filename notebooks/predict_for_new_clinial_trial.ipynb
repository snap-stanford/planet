{
 "cells": [
  {
   "cell_type": "code",
   "execution_count": 3,
   "metadata": {},
   "outputs": [],
   "source": [
    "import warnings\n",
    "warnings.filterwarnings('ignore')"
   ]
  },
  {
   "cell_type": "code",
   "execution_count": 4,
   "metadata": {},
   "outputs": [],
   "source": [
    "import os\n",
    "import sys\n",
    "import json\n",
    "import torch\n",
    "import pickle\n",
    "import itertools\n",
    "\n",
    "import networkx as nx\n",
    "import numpy as np\n",
    "import pandas as pd\n",
    "import pickle as pkl\n",
    "import matplotlib.pyplot as plt \n",
    "from tqdm import tqdm\n",
    "from collections import Counter \n",
    "from copy import deepcopy\n",
    "from torch.utils.data import TensorDataset\n",
    "\n",
    "sys.path.insert(0, \"../\")"
   ]
  },
  {
   "cell_type": "markdown",
   "metadata": {},
   "source": [
    "## Load PlaNet knowledge graph"
   ]
  },
  {
   "cell_type": "code",
   "execution_count": 5,
   "metadata": {},
   "outputs": [],
   "source": [
    "import knowledge_graph\n",
    "from knowledge_graph.kg import *"
   ]
  },
  {
   "cell_type": "code",
   "execution_count": 6,
   "metadata": {},
   "outputs": [],
   "source": [
    "def load_kg_vocab():\n",
    "    kgid2x = {}\n",
    "    x2kgid = {}\n",
    "    for line in open('../data/graph/entities.dict'):\n",
    "        x, kgid = line.split()\n",
    "        kgid2x[kgid] = int(x)\n",
    "        x2kgid[int(x)] = kgid\n",
    "    relname2etype = {}\n",
    "    etype2relname = {}\n",
    "    for line in open('../data/graph/relations.dict'):\n",
    "        etype, name = line.split()\n",
    "        name = name[name.find('rel-name-'):][len('rel-name-'):]\n",
    "        relname2etype[name] = int(etype)\n",
    "        etype2relname[int(etype)] = name \n",
    "    return kgid2x, x2kgid, relname2etype, etype2relname\n",
    "\n",
    "kgid2x, x2kgid, relname2etype, etype2relname = load_kg_vocab()"
   ]
  },
  {
   "cell_type": "markdown",
   "metadata": {},
   "source": [
    "## Run PlaNet models for new clinical trial"
   ]
  },
  {
   "cell_type": "code",
   "execution_count": 7,
   "metadata": {},
   "outputs": [
    {
     "name": "stderr",
     "output_type": "stream",
     "text": [
      "WARNING:root:The OGB package is out of date. Your version is 1.3.0, while the latest version is 1.3.6.\n"
     ]
    }
   ],
   "source": [
    "from utils.demo_utils import load_model, load_model_and_data, model_inference, prepare_runner\n",
    "from gcn_models.utils import set_seed\n",
    "from gcn_models.evaluator import Evaluator\n",
    "set_seed(24)"
   ]
  },
  {
   "cell_type": "code",
   "execution_count": 9,
   "metadata": {},
   "outputs": [],
   "source": [
    "#Load BERT embedder\n",
    "from utils.text_bert_features import TextBertFeatures\n",
    "bert_model = TextBertFeatures(\n",
    "    bert_model='microsoft/BiomedNLP-BiomedBERT-base-uncased-abstract-fulltext',\n",
    "    device='cuda:1'\n",
    ")"
   ]
  },
  {
   "cell_type": "markdown",
   "metadata": {},
   "source": [
    "### Load the new clinical trial data"
   ]
  },
  {
   "cell_type": "code",
   "execution_count": 10,
   "metadata": {},
   "outputs": [],
   "source": [
    "new_trial_data = pkl.load(open('small_data/trial_data_NCT02370680.pkl', 'rb'))"
   ]
  },
  {
   "cell_type": "code",
   "execution_count": 11,
   "metadata": {
    "collapsed": true
   },
   "outputs": [
    {
     "data": {
      "text/plain": [
       "({'nct_id': 'NCT02370680',\n",
       "  'arm_label': 'durlaza™, 1 capsule',\n",
       "  'arm_idx': 0,\n",
       "  'trial_arm_edges': [{'kg_id': 'KG00000863',\n",
       "    'relation': 'study-disease',\n",
       "    'key': Relation(name='study-disease', source=<Source.CLINICAL_TRIAL: (9,)>),\n",
       "    'data': {'relation': 'study-disease',\n",
       "     'source': <Source.CLINICAL_TRIAL: (9,)>,\n",
       "     'attrs': {}}},\n",
       "   {'kg_id': 'KG00122148',\n",
       "    'relation': 'primary_outcome',\n",
       "    'key': Relation(name='primary_outcome', source=<Source.CLINICAL_TRIAL: (9,)>),\n",
       "    'data': {'relation': 'primary_outcome',\n",
       "     'source': <Source.CLINICAL_TRIAL: (9,)>,\n",
       "     'attrs': {}}},\n",
       "   {'kg_id': 'KG00020807',\n",
       "    'relation': 'arm_tests_drug',\n",
       "    'key': Relation(name='arm_tests_drug', source=<Source.CLINICAL_TRIAL: (9,)>),\n",
       "    'data': {'relation': 'arm_tests_drug',\n",
       "     'source': <Source.CLINICAL_TRIAL: (9,)>,\n",
       "     'attrs': {}}},\n",
       "   {'kg_id': 'KG00096684',\n",
       "    'relation': 'eligibility-exclusion',\n",
       "    'key': Relation(name='eligibility-exclusion', source=<Source.CLINICAL_TRIAL: (9,)>),\n",
       "    'data': {'relation': 'eligibility-exclusion',\n",
       "     'source': <Source.CLINICAL_TRIAL: (9,)>,\n",
       "     'attrs': {}}},\n",
       "   {'kg_id': 'KG00074632',\n",
       "    'relation': 'eligibility-exclusion',\n",
       "    'key': Relation(name='eligibility-exclusion', source=<Source.CLINICAL_TRIAL: (9,)>),\n",
       "    'data': {'relation': 'eligibility-exclusion',\n",
       "     'source': <Source.CLINICAL_TRIAL: (9,)>,\n",
       "     'attrs': {}}},\n",
       "   {'kg_id': 'KG00074303',\n",
       "    'relation': 'eligibility-exclusion',\n",
       "    'key': Relation(name='eligibility-exclusion', source=<Source.CLINICAL_TRIAL: (9,)>),\n",
       "    'data': {'relation': 'eligibility-exclusion',\n",
       "     'source': <Source.CLINICAL_TRIAL: (9,)>,\n",
       "     'attrs': {}}},\n",
       "   {'kg_id': 'KG00085224',\n",
       "    'relation': 'eligibility-exclusion',\n",
       "    'key': Relation(name='eligibility-exclusion', source=<Source.CLINICAL_TRIAL: (9,)>),\n",
       "    'data': {'relation': 'eligibility-exclusion',\n",
       "     'source': <Source.CLINICAL_TRIAL: (9,)>,\n",
       "     'attrs': {}}},\n",
       "   {'kg_id': 'KG00094310',\n",
       "    'relation': 'eligibility-exclusion',\n",
       "    'key': Relation(name='eligibility-exclusion', source=<Source.CLINICAL_TRIAL: (9,)>),\n",
       "    'data': {'relation': 'eligibility-exclusion',\n",
       "     'source': <Source.CLINICAL_TRIAL: (9,)>,\n",
       "     'attrs': {}}},\n",
       "   {'kg_id': 'KG00097009',\n",
       "    'relation': 'eligibility-exclusion',\n",
       "    'key': Relation(name='eligibility-exclusion', source=<Source.CLINICAL_TRIAL: (9,)>),\n",
       "    'data': {'relation': 'eligibility-exclusion',\n",
       "     'source': <Source.CLINICAL_TRIAL: (9,)>,\n",
       "     'attrs': {}}},\n",
       "   {'kg_id': 'KG00001910',\n",
       "    'relation': 'eligibility-exclusion',\n",
       "    'key': Relation(name='eligibility-exclusion', source=<Source.CLINICAL_TRIAL: (9,)>),\n",
       "    'data': {'relation': 'eligibility-exclusion',\n",
       "     'source': <Source.CLINICAL_TRIAL: (9,)>,\n",
       "     'attrs': {}}},\n",
       "   {'kg_id': 'KG00001794',\n",
       "    'relation': 'eligibility-exclusion',\n",
       "    'key': Relation(name='eligibility-exclusion', source=<Source.CLINICAL_TRIAL: (9,)>),\n",
       "    'data': {'relation': 'eligibility-exclusion',\n",
       "     'source': <Source.CLINICAL_TRIAL: (9,)>,\n",
       "     'attrs': {}}},\n",
       "   {'kg_id': 'KG00002487',\n",
       "    'relation': 'eligibility-exclusion',\n",
       "    'key': Relation(name='eligibility-exclusion', source=<Source.CLINICAL_TRIAL: (9,)>),\n",
       "    'data': {'relation': 'eligibility-exclusion',\n",
       "     'source': <Source.CLINICAL_TRIAL: (9,)>,\n",
       "     'attrs': {}}},\n",
       "   {'kg_id': 'KG00094395',\n",
       "    'relation': 'eligibility-exclusion',\n",
       "    'key': Relation(name='eligibility-exclusion', source=<Source.CLINICAL_TRIAL: (9,)>),\n",
       "    'data': {'relation': 'eligibility-exclusion',\n",
       "     'source': <Source.CLINICAL_TRIAL: (9,)>,\n",
       "     'attrs': {}}},\n",
       "   {'kg_id': 'KG00004538',\n",
       "    'relation': 'eligibility-exclusion',\n",
       "    'key': Relation(name='eligibility-exclusion', source=<Source.CLINICAL_TRIAL: (9,)>),\n",
       "    'data': {'relation': 'eligibility-exclusion',\n",
       "     'source': <Source.CLINICAL_TRIAL: (9,)>,\n",
       "     'attrs': {}}},\n",
       "   {'kg_id': 'KG00001064',\n",
       "    'relation': 'eligibility-exclusion',\n",
       "    'key': Relation(name='eligibility-exclusion', source=<Source.CLINICAL_TRIAL: (9,)>),\n",
       "    'data': {'relation': 'eligibility-exclusion',\n",
       "     'source': <Source.CLINICAL_TRIAL: (9,)>,\n",
       "     'attrs': {}}},\n",
       "   {'kg_id': 'KG00087549',\n",
       "    'relation': 'eligibility-exclusion',\n",
       "    'key': Relation(name='eligibility-exclusion', source=<Source.CLINICAL_TRIAL: (9,)>),\n",
       "    'data': {'relation': 'eligibility-exclusion',\n",
       "     'source': <Source.CLINICAL_TRIAL: (9,)>,\n",
       "     'attrs': {}}},\n",
       "   {'kg_id': 'KG00083275',\n",
       "    'relation': 'eligibility-exclusion',\n",
       "    'key': Relation(name='eligibility-exclusion', source=<Source.CLINICAL_TRIAL: (9,)>),\n",
       "    'data': {'relation': 'eligibility-exclusion',\n",
       "     'source': <Source.CLINICAL_TRIAL: (9,)>,\n",
       "     'attrs': {}}},\n",
       "   {'kg_id': 'KG00075511',\n",
       "    'relation': 'eligibility-exclusion',\n",
       "    'key': Relation(name='eligibility-exclusion', source=<Source.CLINICAL_TRIAL: (9,)>),\n",
       "    'data': {'relation': 'eligibility-exclusion',\n",
       "     'source': <Source.CLINICAL_TRIAL: (9,)>,\n",
       "     'attrs': {}}},\n",
       "   {'kg_id': 'KG00080489',\n",
       "    'relation': 'eligibility-exclusion',\n",
       "    'key': Relation(name='eligibility-exclusion', source=<Source.CLINICAL_TRIAL: (9,)>),\n",
       "    'data': {'relation': 'eligibility-exclusion',\n",
       "     'source': <Source.CLINICAL_TRIAL: (9,)>,\n",
       "     'attrs': {}}},\n",
       "   {'kg_id': 'KG00080518',\n",
       "    'relation': 'eligibility-exclusion',\n",
       "    'key': Relation(name='eligibility-exclusion', source=<Source.CLINICAL_TRIAL: (9,)>),\n",
       "    'data': {'relation': 'eligibility-exclusion',\n",
       "     'source': <Source.CLINICAL_TRIAL: (9,)>,\n",
       "     'attrs': {}}},\n",
       "   {'kg_id': 'KG00003957',\n",
       "    'relation': 'eligibility-exclusion',\n",
       "    'key': Relation(name='eligibility-exclusion', source=<Source.CLINICAL_TRIAL: (9,)>),\n",
       "    'data': {'relation': 'eligibility-exclusion',\n",
       "     'source': <Source.CLINICAL_TRIAL: (9,)>,\n",
       "     'attrs': {}}},\n",
       "   {'kg_id': 'KG00000908',\n",
       "    'relation': 'eligibility-exclusion',\n",
       "    'key': Relation(name='eligibility-exclusion', source=<Source.CLINICAL_TRIAL: (9,)>),\n",
       "    'data': {'relation': 'eligibility-exclusion',\n",
       "     'source': <Source.CLINICAL_TRIAL: (9,)>,\n",
       "     'attrs': {}}},\n",
       "   {'kg_id': 'KG00072723',\n",
       "    'relation': 'eligibility-exclusion',\n",
       "    'key': Relation(name='eligibility-exclusion', source=<Source.CLINICAL_TRIAL: (9,)>),\n",
       "    'data': {'relation': 'eligibility-exclusion',\n",
       "     'source': <Source.CLINICAL_TRIAL: (9,)>,\n",
       "     'attrs': {}}},\n",
       "   {'kg_id': 'KG00089307',\n",
       "    'relation': 'eligibility-exclusion',\n",
       "    'key': Relation(name='eligibility-exclusion', source=<Source.CLINICAL_TRIAL: (9,)>),\n",
       "    'data': {'relation': 'eligibility-exclusion',\n",
       "     'source': <Source.CLINICAL_TRIAL: (9,)>,\n",
       "     'attrs': {}}},\n",
       "   {'kg_id': 'KG00020760',\n",
       "    'relation': 'eligibility-exclusion',\n",
       "    'key': Relation(name='eligibility-exclusion', source=<Source.CLINICAL_TRIAL: (9,)>),\n",
       "    'data': {'relation': 'eligibility-exclusion',\n",
       "     'source': <Source.CLINICAL_TRIAL: (9,)>,\n",
       "     'attrs': {}}},\n",
       "   {'kg_id': 'KG00020807',\n",
       "    'relation': 'eligibility-exclusion',\n",
       "    'key': Relation(name='eligibility-exclusion', source=<Source.CLINICAL_TRIAL: (9,)>),\n",
       "    'data': {'relation': 'eligibility-exclusion',\n",
       "     'source': <Source.CLINICAL_TRIAL: (9,)>,\n",
       "     'attrs': {}}},\n",
       "   {'kg_id': 'KG00077383',\n",
       "    'relation': 'eligibility-exclusion',\n",
       "    'key': Relation(name='eligibility-exclusion', source=<Source.CLINICAL_TRIAL: (9,)>),\n",
       "    'data': {'relation': 'eligibility-exclusion',\n",
       "     'source': <Source.CLINICAL_TRIAL: (9,)>,\n",
       "     'attrs': {}}},\n",
       "   {'kg_id': 'KG00097024',\n",
       "    'relation': 'eligibility-exclusion',\n",
       "    'key': Relation(name='eligibility-exclusion', source=<Source.CLINICAL_TRIAL: (9,)>),\n",
       "    'data': {'relation': 'eligibility-exclusion',\n",
       "     'source': <Source.CLINICAL_TRIAL: (9,)>,\n",
       "     'attrs': {}}},\n",
       "   {'kg_id': 'KG00085587',\n",
       "    'relation': 'eligibility-exclusion',\n",
       "    'key': Relation(name='eligibility-exclusion', source=<Source.CLINICAL_TRIAL: (9,)>),\n",
       "    'data': {'relation': 'eligibility-exclusion',\n",
       "     'source': <Source.CLINICAL_TRIAL: (9,)>,\n",
       "     'attrs': {}}}],\n",
       "  'arm_text': \"Durlaza™  Cardiovascular Disease  change in platelet aggregation  Durlaza™, 1 capsule Aspirin run-in, followed with Durlaza™, one capsule QD (quaque die), for 14 ± 4 days and an in-patient visit This study is being conducted to evaluate the safety and the length of effect on platelet build-up in the arteries of Durlaza™ as compared to immediate-release Bayer® aspirin 81 mg or subject's current aspirin 81 mg of choice in patients who have Type 2 diabetes mellitus and cardiovascular disease or multiple risk factors of developing cardiovascular disease. comparison of different numbers of capsules  Inclusion Criteria:\\n\\n* Male or non-lactating, non-pregnant female subjects\\n* A history of Type 2 Diabetes and with history of at least one of the following: Coronary Artery Disease, Peripheral Vascular Disease, or Ischemic Stroke, along with at least 2 CVD risk factors (obese, smoker, ≥ 55 years of age, prior thrombotic event)\\n\\nExclusion Criteria:\\n\\n* Sensitivity to aspirin or any NSAID (nonsteroidal antiinflammatory drug),\\n* Evidence of uncontrolled or unstable cardio- or cerebrovascular disorder,\\n* Presence of uncontrolled or chronic medical illness, GI disorder or surgery leading to impaired drug absorption, clinically significant abnormal baseline ECG, history of hepatitis, malignancy within the past five years, or HIV, history of alcohol or drug abuse.\",\n",
       "  'trial_attribute_feats_vec': array([ 0.        , 18.        ,  0.        ,  0.        ,  1.        ,\n",
       "          0.        ,  0.        ,  0.        ,  1.        ,  0.        ,\n",
       "          0.        ,  3.73766962,  0.        ,  0.        ,  1.        ,\n",
       "          0.        ,  0.        ,  0.        ])},\n",
       " {'nct_id': 'NCT02370680',\n",
       "  'arm_label': 'durlaza™, 2 capsules',\n",
       "  'arm_idx': 1,\n",
       "  'trial_arm_edges': [{'kg_id': 'KG00000863',\n",
       "    'relation': 'study-disease',\n",
       "    'key': Relation(name='study-disease', source=<Source.CLINICAL_TRIAL: (9,)>),\n",
       "    'data': {'relation': 'study-disease',\n",
       "     'source': <Source.CLINICAL_TRIAL: (9,)>,\n",
       "     'attrs': {}}},\n",
       "   {'kg_id': 'KG00122148',\n",
       "    'relation': 'primary_outcome',\n",
       "    'key': Relation(name='primary_outcome', source=<Source.CLINICAL_TRIAL: (9,)>),\n",
       "    'data': {'relation': 'primary_outcome',\n",
       "     'source': <Source.CLINICAL_TRIAL: (9,)>,\n",
       "     'attrs': {}}},\n",
       "   {'kg_id': 'KG00020807',\n",
       "    'relation': 'arm_tests_drug',\n",
       "    'key': Relation(name='arm_tests_drug', source=<Source.CLINICAL_TRIAL: (9,)>),\n",
       "    'data': {'relation': 'arm_tests_drug',\n",
       "     'source': <Source.CLINICAL_TRIAL: (9,)>,\n",
       "     'attrs': {}}},\n",
       "   {'kg_id': 'KG00096684',\n",
       "    'relation': 'eligibility-exclusion',\n",
       "    'key': Relation(name='eligibility-exclusion', source=<Source.CLINICAL_TRIAL: (9,)>),\n",
       "    'data': {'relation': 'eligibility-exclusion',\n",
       "     'source': <Source.CLINICAL_TRIAL: (9,)>,\n",
       "     'attrs': {}}},\n",
       "   {'kg_id': 'KG00074632',\n",
       "    'relation': 'eligibility-exclusion',\n",
       "    'key': Relation(name='eligibility-exclusion', source=<Source.CLINICAL_TRIAL: (9,)>),\n",
       "    'data': {'relation': 'eligibility-exclusion',\n",
       "     'source': <Source.CLINICAL_TRIAL: (9,)>,\n",
       "     'attrs': {}}},\n",
       "   {'kg_id': 'KG00074303',\n",
       "    'relation': 'eligibility-exclusion',\n",
       "    'key': Relation(name='eligibility-exclusion', source=<Source.CLINICAL_TRIAL: (9,)>),\n",
       "    'data': {'relation': 'eligibility-exclusion',\n",
       "     'source': <Source.CLINICAL_TRIAL: (9,)>,\n",
       "     'attrs': {}}},\n",
       "   {'kg_id': 'KG00085224',\n",
       "    'relation': 'eligibility-exclusion',\n",
       "    'key': Relation(name='eligibility-exclusion', source=<Source.CLINICAL_TRIAL: (9,)>),\n",
       "    'data': {'relation': 'eligibility-exclusion',\n",
       "     'source': <Source.CLINICAL_TRIAL: (9,)>,\n",
       "     'attrs': {}}},\n",
       "   {'kg_id': 'KG00094310',\n",
       "    'relation': 'eligibility-exclusion',\n",
       "    'key': Relation(name='eligibility-exclusion', source=<Source.CLINICAL_TRIAL: (9,)>),\n",
       "    'data': {'relation': 'eligibility-exclusion',\n",
       "     'source': <Source.CLINICAL_TRIAL: (9,)>,\n",
       "     'attrs': {}}},\n",
       "   {'kg_id': 'KG00097009',\n",
       "    'relation': 'eligibility-exclusion',\n",
       "    'key': Relation(name='eligibility-exclusion', source=<Source.CLINICAL_TRIAL: (9,)>),\n",
       "    'data': {'relation': 'eligibility-exclusion',\n",
       "     'source': <Source.CLINICAL_TRIAL: (9,)>,\n",
       "     'attrs': {}}},\n",
       "   {'kg_id': 'KG00001910',\n",
       "    'relation': 'eligibility-exclusion',\n",
       "    'key': Relation(name='eligibility-exclusion', source=<Source.CLINICAL_TRIAL: (9,)>),\n",
       "    'data': {'relation': 'eligibility-exclusion',\n",
       "     'source': <Source.CLINICAL_TRIAL: (9,)>,\n",
       "     'attrs': {}}},\n",
       "   {'kg_id': 'KG00001794',\n",
       "    'relation': 'eligibility-exclusion',\n",
       "    'key': Relation(name='eligibility-exclusion', source=<Source.CLINICAL_TRIAL: (9,)>),\n",
       "    'data': {'relation': 'eligibility-exclusion',\n",
       "     'source': <Source.CLINICAL_TRIAL: (9,)>,\n",
       "     'attrs': {}}},\n",
       "   {'kg_id': 'KG00002487',\n",
       "    'relation': 'eligibility-exclusion',\n",
       "    'key': Relation(name='eligibility-exclusion', source=<Source.CLINICAL_TRIAL: (9,)>),\n",
       "    'data': {'relation': 'eligibility-exclusion',\n",
       "     'source': <Source.CLINICAL_TRIAL: (9,)>,\n",
       "     'attrs': {}}},\n",
       "   {'kg_id': 'KG00094395',\n",
       "    'relation': 'eligibility-exclusion',\n",
       "    'key': Relation(name='eligibility-exclusion', source=<Source.CLINICAL_TRIAL: (9,)>),\n",
       "    'data': {'relation': 'eligibility-exclusion',\n",
       "     'source': <Source.CLINICAL_TRIAL: (9,)>,\n",
       "     'attrs': {}}},\n",
       "   {'kg_id': 'KG00004538',\n",
       "    'relation': 'eligibility-exclusion',\n",
       "    'key': Relation(name='eligibility-exclusion', source=<Source.CLINICAL_TRIAL: (9,)>),\n",
       "    'data': {'relation': 'eligibility-exclusion',\n",
       "     'source': <Source.CLINICAL_TRIAL: (9,)>,\n",
       "     'attrs': {}}},\n",
       "   {'kg_id': 'KG00001064',\n",
       "    'relation': 'eligibility-exclusion',\n",
       "    'key': Relation(name='eligibility-exclusion', source=<Source.CLINICAL_TRIAL: (9,)>),\n",
       "    'data': {'relation': 'eligibility-exclusion',\n",
       "     'source': <Source.CLINICAL_TRIAL: (9,)>,\n",
       "     'attrs': {}}},\n",
       "   {'kg_id': 'KG00087549',\n",
       "    'relation': 'eligibility-exclusion',\n",
       "    'key': Relation(name='eligibility-exclusion', source=<Source.CLINICAL_TRIAL: (9,)>),\n",
       "    'data': {'relation': 'eligibility-exclusion',\n",
       "     'source': <Source.CLINICAL_TRIAL: (9,)>,\n",
       "     'attrs': {}}},\n",
       "   {'kg_id': 'KG00083275',\n",
       "    'relation': 'eligibility-exclusion',\n",
       "    'key': Relation(name='eligibility-exclusion', source=<Source.CLINICAL_TRIAL: (9,)>),\n",
       "    'data': {'relation': 'eligibility-exclusion',\n",
       "     'source': <Source.CLINICAL_TRIAL: (9,)>,\n",
       "     'attrs': {}}},\n",
       "   {'kg_id': 'KG00075511',\n",
       "    'relation': 'eligibility-exclusion',\n",
       "    'key': Relation(name='eligibility-exclusion', source=<Source.CLINICAL_TRIAL: (9,)>),\n",
       "    'data': {'relation': 'eligibility-exclusion',\n",
       "     'source': <Source.CLINICAL_TRIAL: (9,)>,\n",
       "     'attrs': {}}},\n",
       "   {'kg_id': 'KG00080489',\n",
       "    'relation': 'eligibility-exclusion',\n",
       "    'key': Relation(name='eligibility-exclusion', source=<Source.CLINICAL_TRIAL: (9,)>),\n",
       "    'data': {'relation': 'eligibility-exclusion',\n",
       "     'source': <Source.CLINICAL_TRIAL: (9,)>,\n",
       "     'attrs': {}}},\n",
       "   {'kg_id': 'KG00080518',\n",
       "    'relation': 'eligibility-exclusion',\n",
       "    'key': Relation(name='eligibility-exclusion', source=<Source.CLINICAL_TRIAL: (9,)>),\n",
       "    'data': {'relation': 'eligibility-exclusion',\n",
       "     'source': <Source.CLINICAL_TRIAL: (9,)>,\n",
       "     'attrs': {}}},\n",
       "   {'kg_id': 'KG00003957',\n",
       "    'relation': 'eligibility-exclusion',\n",
       "    'key': Relation(name='eligibility-exclusion', source=<Source.CLINICAL_TRIAL: (9,)>),\n",
       "    'data': {'relation': 'eligibility-exclusion',\n",
       "     'source': <Source.CLINICAL_TRIAL: (9,)>,\n",
       "     'attrs': {}}},\n",
       "   {'kg_id': 'KG00000908',\n",
       "    'relation': 'eligibility-exclusion',\n",
       "    'key': Relation(name='eligibility-exclusion', source=<Source.CLINICAL_TRIAL: (9,)>),\n",
       "    'data': {'relation': 'eligibility-exclusion',\n",
       "     'source': <Source.CLINICAL_TRIAL: (9,)>,\n",
       "     'attrs': {}}},\n",
       "   {'kg_id': 'KG00072723',\n",
       "    'relation': 'eligibility-exclusion',\n",
       "    'key': Relation(name='eligibility-exclusion', source=<Source.CLINICAL_TRIAL: (9,)>),\n",
       "    'data': {'relation': 'eligibility-exclusion',\n",
       "     'source': <Source.CLINICAL_TRIAL: (9,)>,\n",
       "     'attrs': {}}},\n",
       "   {'kg_id': 'KG00089307',\n",
       "    'relation': 'eligibility-exclusion',\n",
       "    'key': Relation(name='eligibility-exclusion', source=<Source.CLINICAL_TRIAL: (9,)>),\n",
       "    'data': {'relation': 'eligibility-exclusion',\n",
       "     'source': <Source.CLINICAL_TRIAL: (9,)>,\n",
       "     'attrs': {}}},\n",
       "   {'kg_id': 'KG00020760',\n",
       "    'relation': 'eligibility-exclusion',\n",
       "    'key': Relation(name='eligibility-exclusion', source=<Source.CLINICAL_TRIAL: (9,)>),\n",
       "    'data': {'relation': 'eligibility-exclusion',\n",
       "     'source': <Source.CLINICAL_TRIAL: (9,)>,\n",
       "     'attrs': {}}},\n",
       "   {'kg_id': 'KG00020807',\n",
       "    'relation': 'eligibility-exclusion',\n",
       "    'key': Relation(name='eligibility-exclusion', source=<Source.CLINICAL_TRIAL: (9,)>),\n",
       "    'data': {'relation': 'eligibility-exclusion',\n",
       "     'source': <Source.CLINICAL_TRIAL: (9,)>,\n",
       "     'attrs': {}}},\n",
       "   {'kg_id': 'KG00077383',\n",
       "    'relation': 'eligibility-exclusion',\n",
       "    'key': Relation(name='eligibility-exclusion', source=<Source.CLINICAL_TRIAL: (9,)>),\n",
       "    'data': {'relation': 'eligibility-exclusion',\n",
       "     'source': <Source.CLINICAL_TRIAL: (9,)>,\n",
       "     'attrs': {}}},\n",
       "   {'kg_id': 'KG00097024',\n",
       "    'relation': 'eligibility-exclusion',\n",
       "    'key': Relation(name='eligibility-exclusion', source=<Source.CLINICAL_TRIAL: (9,)>),\n",
       "    'data': {'relation': 'eligibility-exclusion',\n",
       "     'source': <Source.CLINICAL_TRIAL: (9,)>,\n",
       "     'attrs': {}}},\n",
       "   {'kg_id': 'KG00085587',\n",
       "    'relation': 'eligibility-exclusion',\n",
       "    'key': Relation(name='eligibility-exclusion', source=<Source.CLINICAL_TRIAL: (9,)>),\n",
       "    'data': {'relation': 'eligibility-exclusion',\n",
       "     'source': <Source.CLINICAL_TRIAL: (9,)>,\n",
       "     'attrs': {}}}],\n",
       "  'arm_text': \"Durlaza™  Cardiovascular Disease  change in platelet aggregation  Durlaza™, 2 capsules in a rollover with 10 subjects from the first arm, an aspirin run-in, followed by Durlaza™, two capsules QD, for 14 ± 4 days and an in-patient visit This study is being conducted to evaluate the safety and the length of effect on platelet build-up in the arteries of Durlaza™ as compared to immediate-release Bayer® aspirin 81 mg or subject's current aspirin 81 mg of choice in patients who have Type 2 diabetes mellitus and cardiovascular disease or multiple risk factors of developing cardiovascular disease. comparison of different numbers of capsules  Inclusion Criteria:\\n\\n* Male or non-lactating, non-pregnant female subjects\\n* A history of Type 2 Diabetes and with history of at least one of the following: Coronary Artery Disease, Peripheral Vascular Disease, or Ischemic Stroke, along with at least 2 CVD risk factors (obese, smoker, ≥ 55 years of age, prior thrombotic event)\\n\\nExclusion Criteria:\\n\\n* Sensitivity to aspirin or any NSAID (nonsteroidal antiinflammatory drug),\\n* Evidence of uncontrolled or unstable cardio- or cerebrovascular disorder,\\n* Presence of uncontrolled or chronic medical illness, GI disorder or surgery leading to impaired drug absorption, clinically significant abnormal baseline ECG, history of hepatitis, malignancy within the past five years, or HIV, history of alcohol or drug abuse.\",\n",
       "  'trial_attribute_feats_vec': array([ 0.        , 18.        ,  0.        ,  0.        ,  1.        ,\n",
       "          0.        ,  0.        ,  0.        ,  1.        ,  0.        ,\n",
       "          0.        ,  3.73766962,  0.        ,  0.        ,  1.        ,\n",
       "          0.        ,  0.        ,  0.        ])})"
      ]
     },
     "execution_count": 11,
     "metadata": {},
     "output_type": "execute_result"
    }
   ],
   "source": [
    "new_trial_1, new_trial_2 = new_trial_data\n",
    "new_trial_1, new_trial_2"
   ]
  },
  {
   "cell_type": "markdown",
   "metadata": {},
   "source": [
    "#### Get the feature of the new trials"
   ]
  },
  {
   "cell_type": "code",
   "execution_count": 13,
   "metadata": {},
   "outputs": [
    {
     "name": "stdout",
     "output_type": "stream",
     "text": [
      "(786,) (786,)\n"
     ]
    }
   ],
   "source": [
    "def get_trial_feature(new_trial):\n",
    "    _new_emb = bert_model._embed(new_trial['arm_text'])\n",
    "    return np.concatenate([_new_emb, new_trial['trial_attribute_feats_vec']])\n",
    "\n",
    "new_emb_1 = get_trial_feature(new_trial_1)\n",
    "new_emb_2 = get_trial_feature(new_trial_2)\n",
    "print(new_emb_1.shape, new_emb_2.shape)"
   ]
  },
  {
   "cell_type": "markdown",
   "metadata": {},
   "source": [
    "#### Get the KG info of the new trials"
   ]
  },
  {
   "cell_type": "code",
   "execution_count": 14,
   "metadata": {},
   "outputs": [],
   "source": [
    "def get_new_edges(new_trial, the_x):\n",
    "    new_edges = []; new_etypes = []; seen = set()\n",
    "    for edge in new_trial_1['trial_arm_edges']:\n",
    "        h = the_x\n",
    "        t = kgid2x[edge['kg_id']]\n",
    "        r = relname2etype[edge['relation']]\n",
    "        new_edges.append([h,t])\n",
    "        new_etypes.append(r)\n",
    "        new_edges.append([t,h])\n",
    "        new_etypes.append(r+26)\n",
    "        seen.add(r)\n",
    "    for r in [21,22,23,24,25]:\n",
    "        if r not in seen:\n",
    "            new_edges.append([the_x,0])\n",
    "            new_etypes.append(r)\n",
    "            new_edges.append([0,the_x])\n",
    "            new_etypes.append(r+26)\n",
    "    new_edges = torch.tensor(new_edges).t()\n",
    "    new_etypes = torch.tensor(new_etypes)\n",
    "    print(new_edges.shape)\n",
    "    print(new_etypes.shape)\n",
    "    return new_edges, new_etypes"
   ]
  },
  {
   "cell_type": "markdown",
   "metadata": {},
   "source": [
    "### Predict for the AE task"
   ]
  },
  {
   "cell_type": "markdown",
   "metadata": {},
   "source": [
    "#### Load the AE data and model"
   ]
  },
  {
   "cell_type": "code",
   "execution_count": 15,
   "metadata": {},
   "outputs": [],
   "source": [
    "aeidx2kgid = pkl.load(open('small_data/ae1017_idx2aename.pkl', 'rb'))\n",
    "aekgid2name = pkl.load(open('small_data/ae_kgid2name.pkl', 'rb'))\n",
    "aeidx2name = [aekgid2name[kgid] for kgid in aeidx2kgid]\n",
    "\n",
    "def predict_positive_ae(pred, threshold):\n",
    "    #pred: a list of length 1017\n",
    "    out = []\n",
    "    for idx, val in enumerate(pred):\n",
    "        if val > threshold:\n",
    "            out.append(aeidx2name[idx])\n",
    "    return out"
   ]
  },
  {
   "cell_type": "code",
   "execution_count": 16,
   "metadata": {
    "scrolled": true
   },
   "outputs": [
    {
     "name": "stdout",
     "output_type": "stream",
     "text": [
      "args.data_path ../data/graph\n",
      "Adding infer nodes and edges\n",
      "Reading train triples....\n",
      "False\n",
      "Finished. Read 3388945 train triples.\n",
      "Reading valid triples....\n",
      "False\n",
      "Finished. Read 188264 valid triples.\n",
      "Reading test triples....\n",
      "False\n",
      "Finished. Read 188297 test triples.\n",
      "(205809, 786)\n",
      "TRIAL_ARM          205809\n",
      "PROTEIN             15787\n",
      "DRUG                14299\n",
      "UMLS                 7651\n",
      "DISEASE              5751\n",
      "PRIMARY_OUTCOME      3048\n",
      "Name: etype, dtype: int64\n",
      "\n",
      "Final:\n",
      "TRIAL_ARM          86899\n",
      "PROTEIN            15787\n",
      "DRUG               12133\n",
      "UMLS                7645\n",
      "DISEASE             5751\n",
      "PRIMARY_OUTCOME     2960\n",
      "Name: etype, dtype: int64\n",
      "running _load_graph..\n",
      "running _load_trial_features..\n",
      "         trial        kgid\n",
      "0  NCT00000134  KG00251195\n",
      "1  NCT00000134  KG00251197\n",
      "2  NCT00000134  KG00251196\n",
      "3  NCT00000136  KG00249524\n",
      "4  NCT00000142  KG00250283\n",
      "Total AE idx: 1\n",
      "*****[NOTE] Using OR threshold 2 *****\n",
      "Number of dropped examples:  3211\n",
      "Task: ae_clf_or, Subtasks: 1017\n",
      "task_y.shape torch.Size([26614, 1017])\n",
      "enrollment_filter 20\n",
      "len(self.df) 26614\n",
      "len(self.df) 21857\n",
      "train_end_year 2015.5833333333333 val_end_year 2017.5 latest_year 2021.0\n",
      "Split strategy:  temporal-end-test\n",
      "train    18655\n",
      "test      3202\n",
      "Name: split, dtype: int64\n",
      "#unique_drugs in train 2337\n",
      "#unique_drugs in test 1223\n",
      "#unseen_drugs in test 229\n",
      "len(self.task_ys[0]) 21857\n",
      "_create_datasets...\n",
      " df) 21857\n",
      "len(x) 21857\n",
      "split train 18655\n",
      "split test 3202\n",
      "_create_datasets done.\n",
      "self.num_embeddings 184864\n",
      "task_name ae_clf_or num_subtasks 1017\n",
      "task_params[pos_weight] tensor([1., 1., 1.,  ..., 1., 1., 1.])\n",
      "self.fixed_encoder False\n",
      "self.args.bert_unfreeze_epoch 1\n",
      "to_optimze [{'params': <generator object Module.parameters at 0x7f33f96925f0>, 'lr': 0}, {'params': <generator object Module.parameters at 0x7f33f96926d0>, 'lr': 0}, {'params': <generator object Module.parameters at 0x7f33f9692740>, 'lr': 0}, {'params': <generator object Module.parameters at 0x7f33f96927b0>, 'lr': 0}, {'params': <generator object Module.parameters at 0x7f33f9692820>, 'lr': 0}]\n"
     ]
    },
    {
     "name": "stderr",
     "output_type": "stream",
     "text": [
      "\r",
      "0it [00:00, ?it/s]"
     ]
    },
    {
     "name": "stdout",
     "output_type": "stream",
     "text": [
      "batch_size: 128\n",
      "gradient_accumulation_steps (for training): 1\n",
      "effective batch_size (for training): 128\n",
      "layer_sizes [-1, -1, -1]\n"
     ]
    }
   ],
   "source": [
    "(ae_dataset, ae_tasks), \\\n",
    "    ae_encoder, ae_bert_encoder, \\\n",
    "    ae_model, ae_args, ae_runner \\\n",
    "    = load_model_and_data('../data/models/ae_model_shxo9bgw/ckpt.pt')\n"
   ]
  },
  {
   "cell_type": "markdown",
   "metadata": {},
   "source": [
    "#### Add the new trial to the inference dataset"
   ]
  },
  {
   "cell_type": "code",
   "execution_count": 17,
   "metadata": {},
   "outputs": [],
   "source": [
    "ae_dataset_bk = deepcopy(ae_dataset)\n",
    "ae_tasks_bk = deepcopy(ae_tasks)\n",
    "ae_args_bk = deepcopy(ae_args)"
   ]
  },
  {
   "cell_type": "code",
   "execution_count": 20,
   "metadata": {},
   "outputs": [],
   "source": [
    "def add_new_trial_to_ae_dataset(dataset):\n",
    "    # Update the df\n",
    "    dataset.df = dataset.df[dataset.df['split']=='test'].head(1)\n",
    "    the_x = dataset.df.iloc[0]['x']\n",
    "    the_kgid = dataset.df.iloc[0]['kgid']\n",
    "    print('the_x', the_x, 'the_kgid', the_kgid)\n",
    "    \n",
    "    # Update the node features\n",
    "    _node_feats = deepcopy(dataset.node_feats)\n",
    "    pos = _node_feats[_node_feats['node_id'] == the_kgid].index[0]\n",
    "    _node_feats.at[pos, 'emb'] = new_emb_1\n",
    "    dataset.node_feats = _node_feats\n",
    "    \n",
    "    # Update the graph edges\n",
    "    _graph = deepcopy(dataset.graph)\n",
    "    new_edges, new_etypes = get_new_edges(new_trial_1, the_x)\n",
    "    \n",
    "    _edge_index = _graph.data.edge_index.clone()\n",
    "    columns_with_the_x = _edge_index.eq(the_x).any(dim=0)\n",
    "    _edge_index = _edge_index[:, ~columns_with_the_x]\n",
    "    _edge_index = torch.cat([_edge_index, new_edges], dim=1)\n",
    "    _graph.data.edge_index = _edge_index\n",
    "    \n",
    "    _edge_type = _graph.data.edge_type.clone()\n",
    "    _edge_type = _edge_type[~columns_with_the_x]\n",
    "    _edge_type = torch.cat([_edge_type, new_etypes], dim=0)\n",
    "    _graph.data.edge_type = _edge_type\n",
    "    \n",
    "    dataset.graph = _graph\n",
    "    \n",
    "    # Make the dataset ready for inference\n",
    "    x = dataset._get_data_x(dataset.df)\n",
    "    print('x', x)\n",
    "    tensors = [x]\n",
    "    tensors.extend([dataset.task_ys[0][0].repeat(len(x), 1)])\n",
    "    tensors.extend([dataset.sample_weight_masks[0][0].repeat(len(x), 1)])\n",
    "    dataset.datasets['test'] = TensorDataset(*tensors)\n",
    "    \n",
    "    return dataset"
   ]
  },
  {
   "cell_type": "markdown",
   "metadata": {},
   "source": [
    "#### Run inference for the new trial"
   ]
  },
  {
   "cell_type": "code",
   "execution_count": 21,
   "metadata": {
    "collapsed": true
   },
   "outputs": [
    {
     "name": "stdout",
     "output_type": "stream",
     "text": [
      "the_x 98231 the_kgid KG00136002\n",
      "torch.Size([2, 60])\n",
      "torch.Size([60])\n",
      "x tensor([98231])\n",
      "self.fixed_encoder False\n",
      "self.args.bert_unfreeze_epoch 1\n",
      "to_optimze [{'params': <generator object Module.parameters at 0x7f316d671ac0>, 'lr': 0}, {'params': <generator object Module.parameters at 0x7f316d671b30>, 'lr': 0}, {'params': <generator object Module.parameters at 0x7f316d671cf0>, 'lr': 0}, {'params': <generator object Module.parameters at 0x7f316d671d60>, 'lr': 0}, {'params': <generator object Module.parameters at 0x7f316d671dd0>, 'lr': 0}]\n"
     ]
    },
    {
     "name": "stderr",
     "output_type": "stream",
     "text": [
      "\n",
      "\n",
      "0it [00:00, ?it/s]\u001b[A\u001b[A"
     ]
    },
    {
     "name": "stdout",
     "output_type": "stream",
     "text": [
      "batch_size: 128\n",
      "gradient_accumulation_steps (for training): 1\n",
      "effective batch_size (for training): 128\n",
      "layer_sizes [-1, -1, -1]\n"
     ]
    },
    {
     "name": "stderr",
     "output_type": "stream",
     "text": [
      "0it [08:29, ?it/s]\n"
     ]
    }
   ],
   "source": [
    "ae_dataset = add_new_trial_to_ae_dataset(ae_dataset)\n",
    "ae_args, ae_runner, ae_encoder \\\n",
    "    = prepare_runner(ae_args, ae_dataset, ae_encoder, ae_bert_encoder, ae_model)\n",
    "\n",
    "_, y_test_pred, _ = model_inference(ae_runner, mode='test') \n",
    "print ('y_test_pred.size()', y_test_pred.size())"
   ]
  },
  {
   "cell_type": "markdown",
   "metadata": {},
   "source": [
    "#### Predicted AEs:"
   ]
  },
  {
   "cell_type": "code",
   "execution_count": 23,
   "metadata": {},
   "outputs": [
    {
     "name": "stdout",
     "output_type": "stream",
     "text": [
      "['diarrhoea']\n"
     ]
    }
   ],
   "source": [
    "print(predict_positive_ae(y_test_pred[0], threshold=0.05))"
   ]
  },
  {
   "cell_type": "markdown",
   "metadata": {},
   "source": [
    "### Predict for the Safety task"
   ]
  },
  {
   "cell_type": "markdown",
   "metadata": {},
   "source": [
    "#### Load the safety data and model"
   ]
  },
  {
   "cell_type": "code",
   "execution_count": 18,
   "metadata": {
    "collapsed": true
   },
   "outputs": [
    {
     "name": "stdout",
     "output_type": "stream",
     "text": [
      "args.data_path ../data/graph\n",
      "Adding infer nodes and edges\n",
      "Reading train triples....\n",
      "False\n",
      "Finished. Read 3388945 train triples.\n",
      "Reading valid triples....\n",
      "False\n",
      "Finished. Read 188264 valid triples.\n",
      "Reading test triples....\n",
      "False\n",
      "Finished. Read 188297 test triples.\n",
      "(205809, 786)\n",
      "TRIAL_ARM          205809\n",
      "PROTEIN             15787\n",
      "DRUG                14299\n",
      "UMLS                 7651\n",
      "DISEASE              5751\n",
      "PRIMARY_OUTCOME      3048\n",
      "Name: etype, dtype: int64\n",
      "\n",
      "Final:\n",
      "TRIAL_ARM          86899\n",
      "PROTEIN            15787\n",
      "DRUG               12133\n",
      "UMLS                7645\n",
      "DISEASE             5751\n",
      "PRIMARY_OUTCOME     2960\n",
      "Name: etype, dtype: int64\n",
      "running _load_graph..\n",
      "running _load_trial_features..\n",
      "         trial        kgid\n",
      "0  NCT00000134  KG00251195\n",
      "1  NCT00000134  KG00251197\n",
      "2  NCT00000134  KG00251196\n",
      "3  NCT00000136  KG00249524\n",
      "4  NCT00000142  KG00250283\n",
      "Total AE idx: 1\n",
      "Labels:  (array([False,  True]), array([20448,  6166]))\n",
      "Task: binary_or, Subtasks: 1\n",
      "task_y.shape torch.Size([26614, 1])\n",
      "enrollment_filter 20\n",
      "len(self.df) 26614\n",
      "len(self.df) 21857\n",
      "train_end_year 2015.5833333333333 val_end_year 2017.5 latest_year 2021.0\n",
      "Split strategy:  temporal-end-test\n",
      "train    18655\n",
      "test      3202\n",
      "Name: split, dtype: int64\n",
      "#unique_drugs in train 2337\n",
      "#unique_drugs in test 1223\n",
      "#unseen_drugs in test 229\n",
      "len(self.task_ys[0]) 21857\n",
      "_create_datasets...\n",
      " df) 21857\n",
      "len(x) 21857\n",
      "split train 18655\n",
      "split test 3202\n",
      "_create_datasets done.\n",
      "self.num_embeddings 184864\n",
      "task_name binary_or num_subtasks 1\n",
      "self.fixed_encoder False\n",
      "self.args.bert_unfreeze_epoch 1\n",
      "to_optimze [{'params': <generator object Module.parameters at 0x7f33f9692890>, 'lr': 0}, {'params': <generator object Module.parameters at 0x7f321db6f190>, 'lr': 0}, {'params': <generator object Module.parameters at 0x7f321db6f270>, 'lr': 0}, {'params': <generator object Module.parameters at 0x7f321db6f0b0>, 'lr': 0}, {'params': <generator object Module.parameters at 0x7f321db6f200>, 'lr': 0}]\n"
     ]
    },
    {
     "name": "stderr",
     "output_type": "stream",
     "text": [
      "\n",
      "0it [00:00, ?it/s]\u001b[A"
     ]
    },
    {
     "name": "stdout",
     "output_type": "stream",
     "text": [
      "batch_size: 128\n",
      "gradient_accumulation_steps (for training): 1\n",
      "effective batch_size (for training): 128\n",
      "layer_sizes [-1, -1, -1]\n"
     ]
    }
   ],
   "source": [
    "(sf_dataset, sf_tasks), \\\n",
    "    sf_encoder, sf_bert_encoder, \\\n",
    "    sf_model, sf_args, sf_runner \\\n",
    "    = load_model_and_data('../data/models/safety_model_1xekl810/ckpt.pt')"
   ]
  },
  {
   "cell_type": "code",
   "execution_count": 24,
   "metadata": {},
   "outputs": [],
   "source": [
    "sf_dataset_bk = deepcopy(sf_dataset)\n",
    "sf_tasks_bk = deepcopy(sf_tasks)\n",
    "sf_args_bk = deepcopy(sf_args)"
   ]
  },
  {
   "cell_type": "code",
   "execution_count": 34,
   "metadata": {},
   "outputs": [],
   "source": [
    "def add_new_trial_to_safety_dataset(dataset):\n",
    "    # Update the df\n",
    "    dataset.df = dataset.df[dataset.df['split']=='test'].head(1)\n",
    "    the_x = dataset.df.iloc[0]['x']\n",
    "    the_kgid = dataset.df.iloc[0]['kgid']\n",
    "    print('the_x', the_x, 'the_kgid', the_kgid)\n",
    "    \n",
    "    # Update the node features\n",
    "    _node_feats = deepcopy(dataset.node_feats)\n",
    "    pos = _node_feats[_node_feats['node_id'] == the_kgid].index[0]\n",
    "    _node_feats.at[pos, 'emb'] = new_emb_1\n",
    "    dataset.node_feats = _node_feats\n",
    "    \n",
    "    # Update the graph edges\n",
    "    _graph = deepcopy(dataset.graph)\n",
    "    new_edges, new_etypes = get_new_edges(new_trial_1, the_x)\n",
    "    \n",
    "    _edge_index = _graph.data.edge_index.clone()\n",
    "    columns_with_the_x = _edge_index.eq(the_x).any(dim=0)\n",
    "    _edge_index = _edge_index[:, ~columns_with_the_x]\n",
    "    _edge_index = torch.cat([_edge_index, new_edges], dim=1)\n",
    "    _graph.data.edge_index = _edge_index\n",
    "    \n",
    "    _edge_type = _graph.data.edge_type.clone()\n",
    "    _edge_type = _edge_type[~columns_with_the_x]\n",
    "    _edge_type = torch.cat([_edge_type, new_etypes], dim=0)\n",
    "    _graph.data.edge_type = _edge_type\n",
    "    \n",
    "    dataset.graph = _graph\n",
    "    \n",
    "    # Make the dataset ready for inference\n",
    "    x = dataset._get_data_x(dataset.df)\n",
    "    print('x', x)\n",
    "    tensors = [x]\n",
    "    tensors.extend([dataset.task_ys[0][0].repeat(len(x), 1)])\n",
    "    tensors.extend([dataset.sample_weight_masks[0][0].repeat(len(x), 1)])\n",
    "    dataset.datasets['test'] = TensorDataset(*tensors)\n",
    "    \n",
    "    return dataset"
   ]
  },
  {
   "cell_type": "markdown",
   "metadata": {},
   "source": [
    "#### Run inference for the new trial"
   ]
  },
  {
   "cell_type": "code",
   "execution_count": 27,
   "metadata": {
    "scrolled": true
   },
   "outputs": [
    {
     "name": "stdout",
     "output_type": "stream",
     "text": [
      "the_x 98231 the_kgid KG00136002\n",
      "torch.Size([2, 60])\n",
      "torch.Size([60])\n",
      "x tensor([98231])\n",
      "self.fixed_encoder False\n",
      "self.args.bert_unfreeze_epoch 1\n",
      "to_optimze [{'params': <generator object Module.parameters at 0x7f314d186350>, 'lr': 0}, {'params': <generator object Module.parameters at 0x7f314d186580>, 'lr': 0}, {'params': <generator object Module.parameters at 0x7f314d186e40>, 'lr': 0}, {'params': <generator object Module.parameters at 0x7f314d186d60>, 'lr': 0}, {'params': <generator object Module.parameters at 0x7f314d186eb0>, 'lr': 0}]\n"
     ]
    },
    {
     "name": "stderr",
     "output_type": "stream",
     "text": [
      "\r",
      "0it [00:00, ?it/s]"
     ]
    },
    {
     "name": "stdout",
     "output_type": "stream",
     "text": [
      "batch_size: 128\n",
      "gradient_accumulation_steps (for training): 1\n",
      "effective batch_size (for training): 128\n",
      "layer_sizes [-1, -1, -1]\n"
     ]
    },
    {
     "name": "stderr",
     "output_type": "stream",
     "text": [
      "0it [13:08, ?it/s]\n",
      "100%|█████████████████████████████████████████████| 1/1 [00:00<00:00,  2.04it/s]"
     ]
    },
    {
     "name": "stdout",
     "output_type": "stream",
     "text": [
      "y_test_pred.size() torch.Size([1, 1])\n"
     ]
    }
   ],
   "source": [
    "sf_dataset = add_new_trial_to_safety_dataset(sf_dataset)\n",
    "sf_args, sf_runner, sf_encoder \\\n",
    "    = prepare_runner(sf_args, sf_dataset, sf_encoder, sf_bert_encoder, sf_model)\n",
    "\n",
    "_, y_test_pred, _ = model_inference(sf_runner, mode='test') \n",
    "print ('y_test_pred.size()', y_test_pred.size())"
   ]
  },
  {
   "cell_type": "markdown",
   "metadata": {},
   "source": [
    "#### Predicted probablity of safety concern:"
   ]
  },
  {
   "cell_type": "code",
   "execution_count": 31,
   "metadata": {},
   "outputs": [
    {
     "name": "stdout",
     "output_type": "stream",
     "text": [
      "0.019659381359815598\n"
     ]
    }
   ],
   "source": [
    "print(y_test_pred[0].item())"
   ]
  },
  {
   "cell_type": "markdown",
   "metadata": {},
   "source": [
    "### Predict for the Efficacy task"
   ]
  },
  {
   "cell_type": "code",
   "execution_count": 19,
   "metadata": {
    "collapsed": true
   },
   "outputs": [
    {
     "name": "stdout",
     "output_type": "stream",
     "text": [
      "args.data_path ../data/graph\n",
      "Adding infer nodes and edges\n",
      "Reading train triples....\n",
      "False\n",
      "Finished. Read 3388945 train triples.\n",
      "Reading valid triples....\n",
      "False\n",
      "Finished. Read 188264 valid triples.\n",
      "Reading test triples....\n",
      "False\n",
      "Finished. Read 188297 test triples.\n",
      "(205809, 786)\n",
      "TRIAL_ARM          205809\n",
      "PROTEIN             15787\n",
      "DRUG                14299\n",
      "UMLS                 7651\n",
      "DISEASE              5751\n",
      "PRIMARY_OUTCOME      3048\n",
      "Name: etype, dtype: int64\n",
      "\n",
      "Final:\n",
      "TRIAL_ARM          86899\n",
      "PROTEIN            15787\n",
      "DRUG               12133\n",
      "UMLS                7645\n",
      "DISEASE             5751\n",
      "PRIMARY_OUTCOME     2960\n",
      "Name: etype, dtype: int64\n",
      "running _load_graph..\n",
      "running _load_trial_features..\n",
      "         trial        kgid\n",
      "0  NCT00000134  KG00251195\n",
      "1  NCT00000134  KG00251197\n",
      "2  NCT00000134  KG00251196\n",
      "3  NCT00000136  KG00249524\n",
      "4  NCT00000142  KG00250283\n",
      "Total AE idx: 1\n",
      "building efficacy data...\n",
      "Task: binary_pair_efficacy, Subtasks: 1\n",
      "task_y.shape torch.Size([1486, 1])\n",
      "efficacy split: setting seed= 34\n",
      "efficacy split sanity check done.\n",
      "Split strategy:  trial\n",
      "train    1040\n",
      "test      224\n",
      "val       222\n",
      "Name: split, dtype: int64\n",
      "len(all_unique_trial_arms) 897\n",
      "\n",
      "#unique_drugs in train 260\n",
      "#unique_drugs in test 112\n",
      "#unseen_drugs in test 27\n",
      "len(self.task_ys[0]) 1486\n",
      "_create_datasets...\n",
      " df) 1486\n",
      "len(x) 1486\n",
      "split train 1040\n",
      "split valid 222\n",
      "split test 224\n",
      "_create_datasets done.\n",
      "self.num_embeddings 184864\n",
      "task_name binary_pair_efficacy num_subtasks 1\n"
     ]
    }
   ],
   "source": [
    "(ef_dataset, ef_tasks), ef_encoder, ef_bert_encoder, ef_model, ef_args \\\n",
    "    = load_model('../data/models/efficacy_model_34l5ms9m/ckpt.pt')"
   ]
  },
  {
   "cell_type": "code",
   "execution_count": 32,
   "metadata": {},
   "outputs": [],
   "source": [
    "ef_dataset_bk = deepcopy(ef_dataset)\n",
    "ef_tasks_bk = deepcopy(ef_tasks)\n",
    "ef_args_bk = deepcopy(ef_args)"
   ]
  },
  {
   "cell_type": "markdown",
   "metadata": {},
   "source": [
    "#### Add new trial to inference dataset"
   ]
  },
  {
   "cell_type": "code",
   "execution_count": 35,
   "metadata": {},
   "outputs": [],
   "source": [
    "def add_new_trial_to_efficacy_dataset(dataset):\n",
    "    # Update the df\n",
    "    _df = dataset.efficacy_df[dataset.efficacy_df['split']=='test'].head(1)\n",
    "    dataset.efficacy_df = _df\n",
    "    the_x1, the_x2 = _df.iloc[0]['x1'], _df.iloc[0]['x2']\n",
    "    the_kgid1, the_kgid2 = _df.iloc[0]['kgid1'], _df.iloc[0]['kgid2']\n",
    "    print('the_x1', the_x1, 'the_kgid1', the_kgid1, 'the_x2', the_x2, 'the_kgid2', the_kgid2)\n",
    "    \n",
    "    # Update the node features\n",
    "    _node_feats = deepcopy(dataset.node_feats)\n",
    "    pos = _node_feats[_node_feats['node_id'] == the_kgid1].index[0]\n",
    "    _node_feats.at[pos, 'emb'] = new_emb_1\n",
    "    pos = _node_feats[_node_feats['node_id'] == the_kgid2].index[0]\n",
    "    _node_feats.at[pos, 'emb'] = new_emb_2\n",
    "    dataset.node_feats = _node_feats\n",
    "    \n",
    "    # Update the graph edges\n",
    "    _graph = deepcopy(dataset.graph)\n",
    "    new_edges_1, new_etypes_1 = get_new_edges(new_trial_1, the_x1)\n",
    "    new_edges_2, new_etypes_2 = get_new_edges(new_trial_2, the_x2)\n",
    "    \n",
    "    _edge_index = _graph.data.edge_index.clone()\n",
    "    columns_with_the_x1 = _edge_index.eq(the_x1).any(dim=0)\n",
    "    _edge_index = _edge_index[:, ~columns_with_the_x1]\n",
    "    columns_with_the_x2 = _edge_index.eq(the_x2).any(dim=0)\n",
    "    _edge_index = _edge_index[:, ~columns_with_the_x2]\n",
    "    _edge_index = torch.cat([_edge_index, new_edges_1, new_edges_2], dim=1)\n",
    "    _graph.data.edge_index = _edge_index\n",
    "    \n",
    "    _edge_type = _graph.data.edge_type.clone()\n",
    "    _edge_type = _edge_type[~columns_with_the_x1]\n",
    "    _edge_type = _edge_type[~columns_with_the_x2]\n",
    "    _edge_type = torch.cat([_edge_type, new_etypes_1, new_etypes_2], dim=0)\n",
    "    _graph.data.edge_type = _edge_type\n",
    "    \n",
    "    dataset.graph = _graph\n",
    "    \n",
    "    # Make the dataset ready for inference\n",
    "    x = dataset._get_data_x(_df)\n",
    "    print('x', x)\n",
    "    tensors = [x]\n",
    "    tensors.extend([dataset.task_ys[0][0].repeat(len(x), 1)])\n",
    "    tensors.extend([dataset.sample_weight_masks[0][0].repeat(len(x), 1)])\n",
    "    dataset.datasets['test'] = TensorDataset(*tensors)\n",
    "    \n",
    "    return dataset"
   ]
  },
  {
   "cell_type": "code",
   "execution_count": 36,
   "metadata": {
    "scrolled": true
   },
   "outputs": [
    {
     "name": "stdout",
     "output_type": "stream",
     "text": [
      "the_x1 119661 the_kgid1 KG00180752 the_x2 119660 the_kgid2 KG00180751\n",
      "torch.Size([2, 60])\n",
      "torch.Size([60])\n",
      "torch.Size([2, 60])\n",
      "torch.Size([60])\n",
      "x tensor([[119661, 119660]])\n",
      "self.fixed_encoder False\n",
      "self.args.bert_unfreeze_epoch 1\n",
      "to_optimze [{'params': <generator object Module.parameters at 0x7f31844aa580>, 'lr': 0}, {'params': <generator object Module.parameters at 0x7f31844aa0b0>, 'lr': 0}, {'params': <generator object Module.parameters at 0x7f31844aa430>, 'lr': 0}, {'params': <generator object Module.parameters at 0x7f31844aa190>, 'lr': 0}, {'params': <generator object Module.parameters at 0x7f31844aa200>, 'lr': 0}]\n"
     ]
    },
    {
     "name": "stderr",
     "output_type": "stream",
     "text": [
      "\n",
      "0it [00:00, ?it/s]\u001b[A"
     ]
    },
    {
     "name": "stdout",
     "output_type": "stream",
     "text": [
      "batch_size: 128\n",
      "gradient_accumulation_steps (for training): 1\n",
      "effective batch_size (for training): 128\n",
      "layer_sizes [-1, -1, -1]\n"
     ]
    },
    {
     "name": "stderr",
     "output_type": "stream",
     "text": [
      "\n",
      "  0%|                                                     | 0/1 [00:00<?, ?it/s]\u001b[A\n",
      "100%|█████████████████████████████████████████████| 1/1 [00:00<00:00,  1.74it/s]\u001b[A"
     ]
    },
    {
     "name": "stdout",
     "output_type": "stream",
     "text": [
      "y_test_pred.size() torch.Size([1, 1]) y_test_true.size() torch.Size([1, 1])\n"
     ]
    }
   ],
   "source": [
    "ef_dataset = add_new_trial_to_efficacy_dataset(ef_dataset)\n",
    "ef_args, ef_runner, ef_encoder \\\n",
    "    = prepare_runner(ef_args, ef_dataset, ef_encoder, ef_bert_encoder, ef_model)\n",
    "\n",
    "_, y_test_pred, _ = model_inference(ef_runner, mode='test') \n",
    "print ('y_test_pred.size()', y_test_pred.size())"
   ]
  },
  {
   "cell_type": "markdown",
   "metadata": {},
   "source": [
    "#### Predicted probability that trial arm 1 has better efficacy than trial arm 2:"
   ]
  },
  {
   "cell_type": "code",
   "execution_count": 37,
   "metadata": {
    "scrolled": true
   },
   "outputs": [
    {
     "name": "stdout",
     "output_type": "stream",
     "text": [
      "0.47162944078445435\n"
     ]
    }
   ],
   "source": [
    "print(y_test_pred[0].item())"
   ]
  },
  {
   "cell_type": "code",
   "execution_count": null,
   "metadata": {},
   "outputs": [],
   "source": []
  }
 ],
 "metadata": {
  "kernelspec": {
   "display_name": "Python [conda env:ctpy38]",
   "language": "python",
   "name": "conda-env-ctpy38-py"
  },
  "language_info": {
   "codemirror_mode": {
    "name": "ipython",
    "version": 3
   },
   "file_extension": ".py",
   "mimetype": "text/x-python",
   "name": "python",
   "nbconvert_exporter": "python",
   "pygments_lexer": "ipython3",
   "version": "3.8.12"
  }
 },
 "nbformat": 4,
 "nbformat_minor": 2
}
